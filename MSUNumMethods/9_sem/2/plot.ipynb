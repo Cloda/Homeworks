{
 "cells": [
  {
   "cell_type": "code",
   "execution_count": 1,
   "metadata": {},
   "outputs": [
    {
     "ename": "",
     "evalue": "",
     "output_type": "error",
     "traceback": [
      "\u001b[1;31mRunning cells with '.venv (Python 3.12.3)' requires the ipykernel package.\n",
      "\u001b[1;31mRun the following command to install 'ipykernel' into the Python environment. \n",
      "\u001b[1;31mCommand: '/Users/ivancherepakhin/Documents/Homeworks/MSUNumMethods/9_sem/.venv/bin/python -m pip install ipykernel -U --force-reinstall'"
     ]
    }
   ],
   "source": [
    "import matplotlib.pyplot\n",
    "import numpy"
   ]
  },
  {
   "cell_type": "markdown",
   "metadata": {},
   "source": [
    "#### Смотрим на то, как целочисленные задачи считаются"
   ]
  },
  {
   "cell_type": "code",
   "execution_count": null,
   "metadata": {},
   "outputs": [
    {
     "ename": "",
     "evalue": "",
     "output_type": "error",
     "traceback": [
      "\u001b[1;31mRunning cells with '.venv (Python 3.12.3)' requires the ipykernel package.\n",
      "\u001b[1;31mRun the following command to install 'ipykernel' into the Python environment. \n",
      "\u001b[1;31mCommand: '/Users/ivancherepakhin/Documents/Homeworks/MSUNumMethods/9_sem/.venv/bin/python -m pip install ipykernel -U --force-reinstall'"
     ]
    }
   ],
   "source": [
    "delta = 0.08\n",
    "pointX = numpy.arange(2 - delta, 2 + delta, 1/100)\n",
    "pointY = list(map(lambda x: (x - 2)**9, pointX))\n",
    "matplotlib.pyplot.plot(pointX, pointY)"
   ]
  },
  {
   "cell_type": "code",
   "execution_count": null,
   "metadata": {},
   "outputs": [
    {
     "ename": "",
     "evalue": "",
     "output_type": "error",
     "traceback": [
      "\u001b[1;31mRunning cells with '.venv (Python 3.12.3)' requires the ipykernel package.\n",
      "\u001b[1;31mRun the following command to install 'ipykernel' into the Python environment. \n",
      "\u001b[1;31mCommand: '/Users/ivancherepakhin/Documents/Homeworks/MSUNumMethods/9_sem/.venv/bin/python -m pip install ipykernel -U --force-reinstall'"
     ]
    }
   ],
   "source": [
    "def long_polinom(x: float):\n",
    "    return x**9 - 18*x**8 + 144*x**7 - 672*x**6 + 2016*x**5 - 4032*x**4 + 5376*x**3 - 4608*x**2 + 2304*x - 512\n",
    "\n",
    "delta = 0.08\n",
    "pointX = numpy.arange(2 - delta, 2 + delta, 1/100)\n",
    "pointY = list(map(long_polinom, pointX))\n",
    "matplotlib.pyplot.plot(pointX, pointY)"
   ]
  },
  {
   "cell_type": "code",
   "execution_count": null,
   "metadata": {},
   "outputs": [
    {
     "ename": "",
     "evalue": "",
     "output_type": "error",
     "traceback": [
      "\u001b[1;31mRunning cells with '.venv (Python 3.12.3)' requires the ipykernel package.\n",
      "\u001b[1;31mRun the following command to install 'ipykernel' into the Python environment. \n",
      "\u001b[1;31mCommand: '/Users/ivancherepakhin/Documents/Homeworks/MSUNumMethods/9_sem/.venv/bin/python -m pip install ipykernel -U --force-reinstall'"
     ]
    }
   ],
   "source": [
    "pointY"
   ]
  },
  {
   "cell_type": "markdown",
   "metadata": {},
   "source": [
    "### Схема Горнера"
   ]
  },
  {
   "cell_type": "markdown",
   "metadata": {},
   "source": [
    "Скорость o(n). Оптимальное количество операций, но набегает ошибка и поэтому неусточивость."
   ]
  },
  {
   "cell_type": "code",
   "execution_count": null,
   "metadata": {},
   "outputs": [
    {
     "ename": "",
     "evalue": "",
     "output_type": "error",
     "traceback": [
      "\u001b[1;31mRunning cells with '.venv (Python 3.12.3)' requires the ipykernel package.\n",
      "\u001b[1;31mRun the following command to install 'ipykernel' into the Python environment. \n",
      "\u001b[1;31mCommand: '/Users/ivancherepakhin/Documents/Homeworks/MSUNumMethods/9_sem/.venv/bin/python -m pip install ipykernel -U --force-reinstall'"
     ]
    }
   ],
   "source": [
    "def Gorner(x: float):\n",
    "    gorner = 0\n",
    "    listCoef =  [1, -18, 144, -672, 2016, -4032, 5376, -4608, 2304, -512]\n",
    "    for coef in listCoef:\n",
    "        gorner = gorner*x + coef\n",
    "    \n",
    "    return gorner\n",
    "\n",
    "pointY = list(map(Gorner, pointX))\n",
    "pointY"
   ]
  },
  {
   "cell_type": "code",
   "execution_count": null,
   "metadata": {},
   "outputs": [
    {
     "ename": "",
     "evalue": "",
     "output_type": "error",
     "traceback": [
      "\u001b[1;31mRunning cells with '.venv (Python 3.12.3)' requires the ipykernel package.\n",
      "\u001b[1;31mRun the following command to install 'ipykernel' into the Python environment. \n",
      "\u001b[1;31mCommand: '/Users/ivancherepakhin/Documents/Homeworks/MSUNumMethods/9_sem/.venv/bin/python -m pip install ipykernel -U --force-reinstall'"
     ]
    }
   ],
   "source": [
    "matplotlib.pyplot.plot(pointX, pointY)"
   ]
  },
  {
   "cell_type": "markdown",
   "metadata": {},
   "source": [
    "### Нужна скороcть и хотим ее изучить"
   ]
  },
  {
   "cell_type": "markdown",
   "metadata": {},
   "source": [
    "Либо wildgrind. Есть утилита time и clock в linux. Они возвращают особый тип, также можно вычитать взаимодействовать с экземплярами."
   ]
  },
  {
   "cell_type": "code",
   "execution_count": null,
   "metadata": {},
   "outputs": [
    {
     "ename": "",
     "evalue": "",
     "output_type": "error",
     "traceback": [
      "\u001b[1;31mRunning cells with '.venv (Python 3.12.3)' requires the ipykernel package.\n",
      "\u001b[1;31mRun the following command to install 'ipykernel' into the Python environment. \n",
      "\u001b[1;31mCommand: '/Users/ivancherepakhin/Documents/Homeworks/MSUNumMethods/9_sem/.venv/bin/python -m pip install ipykernel -U --force-reinstall'"
     ]
    }
   ],
   "source": []
  },
  {
   "cell_type": "markdown",
   "metadata": {},
   "source": [
    "#### Хотим возвести в степень быстро "
   ]
  },
  {
   "cell_type": "markdown",
   "metadata": {},
   "source": [
    "Просто представим в двоичном разложении саму стеень p, то есть \n",
    "$$n^p = n^{a_0 + a_1 2 + ... + a_k 2^k}$$\n",
    "А потом просто перемножаем."
   ]
  },
  {
   "cell_type": "markdown",
   "metadata": {},
   "source": [
    "#### Подсчет произведения матрицы на вектор"
   ]
  },
  {
   "cell_type": "markdown",
   "metadata": {},
   "source": [
    "Храним матрицу $A$, вектор $x$ и хотим посчитать $Ax$. Заводим массив массивов и далее проходимся обычным циклом по нему. И есть проблема с кэшом и хранением массивов."
   ]
  },
  {
   "cell_type": "markdown",
   "metadata": {},
   "source": [
    "#### Хотим посчитать сумму матрицы"
   ]
  },
  {
   "cell_type": "markdown",
   "metadata": {},
   "source": [
    "Лучше всегда идти линейно\n",
    "```cpp\n",
    "s = 0;\n",
    "for(i = 0; i < n; i++)\n",
    "for(j = 0;)\n",
    "```"
   ]
  },
  {
   "cell_type": "markdown",
   "metadata": {},
   "source": [
    "#### Система BLAS, ATLAS, LAPACK\n",
    "Хотим научиться делать методы линейной алгебры\n",
    "1) $\\alpha x[.] + y[.]$ \n",
    "2) $Ax, xy^{T}$\n",
    "3) $C = AB+C$\n",
    "\n",
    "Это пакеты, которые делают это быстро и безопасно. Разберем как перемножать матрицы(было на лекции).\n",
    "$$\n",
    "c_{ij} = \\sum_{k=1}^m A_{ik} B_{kj} \\\n",
    "$$\n",
    "Имеем такой код для обычной реализации, где ходим по строке и столбцу и это плохо, так кэш тогда просто не нормирует свою работу для обоих случаев\n",
    "```cpp\n",
    "for(i)\n",
    "    for(j)\n",
    "        for(k)\n",
    "            c[i, j] = A[i, k]*B[k, j]\n",
    "```\n",
    "Улучшение. Зафиксируем один элемент $A$, тем самым мы суммируем только столбцы и кэш уже подстроиться\n",
    "```cpp\n",
    "for(i)\n",
    "    for(k) d = A[k, i]\n",
    "        for(j)\n",
    "            c[i, j] = d*B[k, j]\n",
    "```\n",
    "Также есть блочные алгоритмы. В кэше должны храниться вектора, на каждом шаге закачали два ветрок и сделали n действий и выкинули, и уже не факт что в кэше есть следующий элемент. Идея: хотим закачать $n^2$ и вычисляли за $n^3$. Будем представлять матрицы в набор матриц и перемножаем уже маленькие подматрицы. И хранить надо именно по матрицам. "
   ]
  },
  {
   "cell_type": "markdown",
   "metadata": {},
   "source": []
  },
  {
   "cell_type": "code",
   "execution_count": null,
   "metadata": {},
   "outputs": [
    {
     "ename": "",
     "evalue": "",
     "output_type": "error",
     "traceback": [
      "\u001b[1;31mRunning cells with '.venv (Python 3.12.3)' requires the ipykernel package.\n",
      "\u001b[1;31mRun the following command to install 'ipykernel' into the Python environment. \n",
      "\u001b[1;31mCommand: '/Users/ivancherepakhin/Documents/Homeworks/MSUNumMethods/9_sem/.venv/bin/python -m pip install ipykernel -U --force-reinstall'"
     ]
    }
   ],
   "source": []
  }
 ],
 "metadata": {
  "kernelspec": {
   "display_name": "microstructure_venv",
   "language": "python",
   "name": "python3"
  },
  "language_info": {
   "codemirror_mode": {
    "name": "ipython",
    "version": 3
   },
   "file_extension": ".py",
   "mimetype": "text/x-python",
   "name": "python",
   "nbconvert_exporter": "python",
   "pygments_lexer": "ipython3",
   "version": "3.12.3"
  }
 },
 "nbformat": 4,
 "nbformat_minor": 2
}
