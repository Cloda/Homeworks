{
 "cells": [
  {
   "cell_type": "markdown",
   "metadata": {},
   "source": [
    "#### *Applied Mathematical Finance 2*"
   ]
  },
  {
   "cell_type": "markdown",
   "metadata": {},
   "source": [
    "## <ins> *Lab 3: Vanilla commodities* </ins>"
   ]
  },
  {
   "cell_type": "markdown",
   "metadata": {},
   "source": [
    "The deadline is 23:59 on 25th of May, 2025. The solution must be sent up to the deadline on amf2-2025-spring@yandex.ru.\n"
   ]
  },
  {
   "cell_type": "markdown",
   "metadata": {},
   "source": [
    "### 1. Composite coal swap (50 points)"
   ]
  },
  {
   "cell_type": "markdown",
   "metadata": {},
   "source": [
    "You are given a composite coal swap with\n",
    "\n",
    "* 12 observation dates $t_i$ equal to the last Friday of each calendar month of the year 2023.\n",
    "\n",
    "* $S$ corresponding to weekly coal fixing.\n",
    "\n",
    "* $X$ equal to the USDRUB fixing. \n",
    "\n",
    "* Payoff at $t_{12}$ is \n",
    "\n",
    "$$\\frac{1}{12} \\sum_{i=1}^{12} S_{t_i} X_{t_i + l} - K,$$\n",
    "\n",
    "with $l=-2$ weeks being the FX fixing lag and $K$ the strike of the swap contract. \n"
   ]
  },
  {
   "cell_type": "markdown",
   "metadata": {},
   "source": [
    "Also assume that \n",
    "\n",
    "* The value date $t_0$ is `03/01/2023`;\n",
    "\n",
    "* The continuously-compounded foreign-domestic rates difference $r_{\\text{USD}} - r_{\\text{RUB}} = 10\\%$;\n",
    "\n",
    "* The USDRUB spot and volatility equal to $100$ and $40\\%$;\n",
    "\n",
    "* The coal volatility is $50\\%$ and the Coal/FX correlation is $-80\\%$;\n",
    "\n",
    "* The coal monthly average futures quotes (denominated in USD currency) are given in `lab3.csv`."
   ]
  },
  {
   "cell_type": "markdown",
   "metadata": {
    "vscode": {
     "languageId": "powershell"
    }
   },
   "source": [
    "Finally, assume that the day count convention is `Act365`. "
   ]
  },
  {
   "cell_type": "markdown",
   "metadata": {},
   "source": [
    "#### 1.1 Curve stripping (25 points)"
   ]
  },
  {
   "cell_type": "markdown",
   "metadata": {},
   "source": [
    "Build weekly-observable forward curve. "
   ]
  },
  {
   "cell_type": "code",
   "execution_count": 156,
   "metadata": {},
   "outputs": [],
   "source": [
    "from datetime import date\n",
    "import pandas as pd\n",
    "import numpy as np\n",
    "import matplotlib.pyplot as plt\n",
    "import QuantLib as ql\n",
    "from scipy.stats import norm\n",
    "from scipy.interpolate import PchipInterpolator\n",
    "from scipy.optimize import fsolve\n"
   ]
  },
  {
   "cell_type": "code",
   "execution_count": 157,
   "metadata": {},
   "outputs": [],
   "source": [
    "day_count = ql.Actual365Fixed()\n",
    "calendar = ql.UnitedStates(ql.UnitedStates.NYSE)  \n",
    "\n",
    "valueDate = date(2023, 1, 3)\n",
    "t0 = ql.Date(3, 1, 2023)\n",
    "spread_rate = 0.1\n",
    "exchange_rate_spot = 100\n",
    "exchange_rate_vol = 0.4\n",
    "coal_vol = 0.5\n",
    "corr_coal_fx = -0.8\n",
    "\n",
    "quanto_lag = -14 / 365\n"
   ]
  },
  {
   "cell_type": "code",
   "execution_count": 158,
   "metadata": {},
   "outputs": [],
   "source": [
    "futures_curve = pd.read_csv(\"lab3.csv\", sep=\";\")\n",
    "futures_curve = futures_curve.drop([\"Unnamed: 0\"], axis=1)\n",
    "futures_curve.columns = [\"expiry\", \"price\"]\n",
    "# futures_curve[\"expiry\"] = pd.to_datetime(futures_curve[\"expiry\"])"
   ]
  },
  {
   "cell_type": "code",
   "execution_count": 159,
   "metadata": {},
   "outputs": [
    {
     "data": {
      "text/html": [
       "<div>\n",
       "<style scoped>\n",
       "    .dataframe tbody tr th:only-of-type {\n",
       "        vertical-align: middle;\n",
       "    }\n",
       "\n",
       "    .dataframe tbody tr th {\n",
       "        vertical-align: top;\n",
       "    }\n",
       "\n",
       "    .dataframe thead th {\n",
       "        text-align: right;\n",
       "    }\n",
       "</style>\n",
       "<table border=\"1\" class=\"dataframe\">\n",
       "  <thead>\n",
       "    <tr style=\"text-align: right;\">\n",
       "      <th></th>\n",
       "      <th>expiry</th>\n",
       "      <th>price</th>\n",
       "    </tr>\n",
       "  </thead>\n",
       "  <tbody>\n",
       "    <tr>\n",
       "      <th>0</th>\n",
       "      <td>27/1/2023</td>\n",
       "      <td>230.00</td>\n",
       "    </tr>\n",
       "    <tr>\n",
       "      <th>1</th>\n",
       "      <td>24/2/2023</td>\n",
       "      <td>206.00</td>\n",
       "    </tr>\n",
       "    <tr>\n",
       "      <th>2</th>\n",
       "      <td>31/3/2023</td>\n",
       "      <td>194.90</td>\n",
       "    </tr>\n",
       "    <tr>\n",
       "      <th>3</th>\n",
       "      <td>28/4/2023</td>\n",
       "      <td>185.75</td>\n",
       "    </tr>\n",
       "    <tr>\n",
       "      <th>4</th>\n",
       "      <td>26/5/2023</td>\n",
       "      <td>174.50</td>\n",
       "    </tr>\n",
       "    <tr>\n",
       "      <th>5</th>\n",
       "      <td>30/6/2023</td>\n",
       "      <td>163.25</td>\n",
       "    </tr>\n",
       "    <tr>\n",
       "      <th>6</th>\n",
       "      <td>28/7/2023</td>\n",
       "      <td>138.70</td>\n",
       "    </tr>\n",
       "    <tr>\n",
       "      <th>7</th>\n",
       "      <td>25/8/2023</td>\n",
       "      <td>132.65</td>\n",
       "    </tr>\n",
       "    <tr>\n",
       "      <th>8</th>\n",
       "      <td>29/9/2023</td>\n",
       "      <td>129.30</td>\n",
       "    </tr>\n",
       "    <tr>\n",
       "      <th>9</th>\n",
       "      <td>27/10/2023</td>\n",
       "      <td>124.85</td>\n",
       "    </tr>\n",
       "    <tr>\n",
       "      <th>10</th>\n",
       "      <td>24/11/2023</td>\n",
       "      <td>120.70</td>\n",
       "    </tr>\n",
       "    <tr>\n",
       "      <th>11</th>\n",
       "      <td>29/12/2023</td>\n",
       "      <td>115.50</td>\n",
       "    </tr>\n",
       "  </tbody>\n",
       "</table>\n",
       "</div>"
      ],
      "text/plain": [
       "        expiry   price\n",
       "0    27/1/2023  230.00\n",
       "1    24/2/2023  206.00\n",
       "2    31/3/2023  194.90\n",
       "3    28/4/2023  185.75\n",
       "4    26/5/2023  174.50\n",
       "5    30/6/2023  163.25\n",
       "6    28/7/2023  138.70\n",
       "7    25/8/2023  132.65\n",
       "8    29/9/2023  129.30\n",
       "9   27/10/2023  124.85\n",
       "10  24/11/2023  120.70\n",
       "11  29/12/2023  115.50"
      ]
     },
     "execution_count": 159,
     "metadata": {},
     "output_type": "execute_result"
    }
   ],
   "source": [
    "futures_curve"
   ]
  },
  {
   "cell_type": "code",
   "execution_count": 160,
   "metadata": {},
   "outputs": [
    {
     "data": {
      "image/png": "[encoded data removed]",
      "text/plain": [
       "<Figure size 640x480 with 1 Axes>"
      ]
     },
     "metadata": {},
     "output_type": "display_data"
    }
   ],
   "source": [
    "F = futures_curve[\"price\"].to_numpy().astype(float)\n",
    "n = np.array([4, 4, 5, 4, 4, 5, 4, 4, 5, 4, 4, 5])\n",
    "N_node = np.zeros(13)\n",
    "for i  in range(1,13):\n",
    "  N_node[i] = N_node[i-1] + n[i-1]\n",
    "\n",
    "plt.plot(N_node[1:], F, '--', label='Future contract quote per calendar month')\n",
    "plt.plot(N_node[1:], F, 'o')\n",
    "plt.xlabel(\"week\")\n",
    "plt.ylabel(\"USD\")\n",
    "plt.legend()\n",
    "plt.show()"
   ]
  },
  {
   "cell_type": "code",
   "execution_count": 161,
   "metadata": {},
   "outputs": [
    {
     "data": {
      "image/png": "[encoded data removed]",
      "text/plain": [
       "<Figure size 640x480 with 1 Axes>"
      ]
     },
     "metadata": {},
     "output_type": "display_data"
    }
   ],
   "source": [
    "summation_curve_node = np.zeros(13)\n",
    "for i  in range(1,13):\n",
    "  summation_curve_node[i] = summation_curve_node[i-1] + F[i-1]*n[i-1]\n",
    "plt.bar(N_node, summation_curve_node, width=5, edgecolor=\"white\", linewidth=2, label='Summation curve backbone')\n",
    "plt.xlabel(\"week\")\n",
    "plt.ylabel(\"USD\")\n",
    "plt.legend()\n",
    "plt.show()"
   ]
  },
  {
   "cell_type": "code",
   "execution_count": 162,
   "metadata": {},
   "outputs": [],
   "source": [
    "f_t = np.zeros(52)\n",
    "N = np.arange(1,53)\n",
    "for i in range(1,53):\n",
    "  f_t[i-1] = PchipInterpolator(N_node, summation_curve_node)(i) - PchipInterpolator(N_node, summation_curve_node)(i-1)"
   ]
  },
  {
   "cell_type": "code",
   "execution_count": 163,
   "metadata": {},
   "outputs": [
    {
     "data": {
      "image/png": "[encoded data removed]",
      "text/plain": [
       "<Figure size 640x480 with 1 Axes>"
      ]
     },
     "metadata": {},
     "output_type": "display_data"
    }
   ],
   "source": [
    "plt.bar(N, f_t, label='Future contract quote per week')\n",
    "plt.plot(N_node[1:], F, 'o',color = 'r')\n",
    "plt.xlabel(\"week\")\n",
    "plt.ylabel(\"USD\")\n",
    "# plt.ylim(141, 147)\n",
    "plt.legend()\n",
    "plt.show()"
   ]
  },
  {
   "cell_type": "markdown",
   "metadata": {},
   "source": [
    "#### 1.2 Composite coal swap pricing (25 points)"
   ]
  },
  {
   "cell_type": "markdown",
   "metadata": {},
   "source": [
    "Using standard model of correlated Brownian motions compute par strike $K$ of a composite coal swap with the specifications provided above. "
   ]
  },
  {
   "cell_type": "code",
   "execution_count": 164,
   "metadata": {},
   "outputs": [],
   "source": [
    "def quantoCompoSwapStrike(\n",
    "    future_price: float,\n",
    "    exchange_rate_spot: float,\n",
    "    exchange_rate_vol: float,\n",
    "    coal_vol: float,\n",
    "    corr_coal_fx: float,\n",
    "    spread_rate: float,\n",
    "    spot_tenor: float\n",
    "):\n",
    "    return exchange_rate_spot * np.exp(spread_rate * (spot_tenor)) * future_price * np.exp(- corr_coal_fx * exchange_rate_vol * coal_vol * max(-quanto_lag, 0)) "
   ]
  },
  {
   "cell_type": "code",
   "execution_count": 165,
   "metadata": {},
   "outputs": [],
   "source": [
    "def convert_to_date(date_str):\n",
    "    day, month, year = map(int, date_str.split('/'))\n",
    "    return ql.Date(day, month, year)"
   ]
  },
  {
   "cell_type": "code",
   "execution_count": 166,
   "metadata": {},
   "outputs": [
    {
     "data": {
      "text/plain": [
       "array([22259.56136623, 20413.13545235, 19595.22706599, 18792.90050015,\n",
       "       17753.96004486, 16160.97054452, 14309.36752559, 14018.34426789,\n",
       "       13759.34880663, 13402.64636927, 13024.68913134, 12525.3860286 ])"
      ]
     },
     "execution_count": 166,
     "metadata": {},
     "output_type": "execute_result"
    }
   ],
   "source": [
    "dates = np.array([convert_to_date(item) for item in futures_curve[\"expiry\"].to_list()])\n",
    "dates_frac = np.array([\n",
    "    day_count.yearFraction(t0, calendar.advance(t1, ql.Period(-2, ql.Weeks))) for t1 in dates\n",
    "])\n",
    "\n",
    "quanto_strike = np.array([\n",
    "    quantoCompoSwapStrike(\n",
    "        f_t[num - 1],\n",
    "        exchange_rate_spot,\n",
    "        exchange_rate_vol,\n",
    "        coal_vol,\n",
    "        corr_coal_fx,\n",
    "        spread_rate,\n",
    "        dates_frac[i]\n",
    "    ) for i, num in enumerate(np.cumsum(n))\n",
    "])\n",
    "quanto_strike"
   ]
  },
  {
   "cell_type": "code",
   "execution_count": 167,
   "metadata": {},
   "outputs": [
    {
     "name": "stdout",
     "output_type": "stream",
     "text": [
      "par strike:  16334.628091950777\n"
     ]
    }
   ],
   "source": [
    "swap_strike = np.sum(quanto_strike) / 12.\n",
    "print(\"par strike: \", swap_strike)"
   ]
  },
  {
   "cell_type": "markdown",
   "metadata": {},
   "source": [
    "### 2. Brent vanilla option with early expiry (50 points)"
   ]
  },
  {
   "cell_type": "markdown",
   "metadata": {},
   "source": [
    "You are given a European call option on BRENT_MAY_24 oil futures with expiry date `28/07/2023` and the strike $K = 70.73$. "
   ]
  },
  {
   "cell_type": "markdown",
   "metadata": {
    "vscode": {
     "languageId": "powershell"
    }
   },
   "source": [
    "Assume that \n",
    "\n",
    "* The value date $t_0$ is `18/05/2023`;\n",
    "\n",
    "* The BRENT_MAT_24 futures contract price is $70.73$ (that is, the option is ATM);\n",
    "\n",
    "* The market implied volatility is $41.61\\%$ and the natural option maturity is `25/03/2024`; \n",
    "\n",
    "* The futures contract maturity is `28/03/2024`;\n",
    "\n",
    "* The Andersen's model parameters are $\\sigma_0 = 0.5$, $\\sigma_{\\infty} = 0.2$, $\\rho_{\\infty} = 0.75$, $\\kappa = 1$. Also assume that there is no seasonality in correlations, i.e. $f_{\\infty}(t) = \\rho_{\\infty}$."
   ]
  },
  {
   "cell_type": "markdown",
   "metadata": {},
   "source": [
    "Using the Andersen's model, find the (undiscounted) price of a Europan call described above."
   ]
  },
  {
   "cell_type": "code",
   "execution_count": 168,
   "metadata": {},
   "outputs": [],
   "source": [
    "iv = 0.4161\n",
    "K = 70.73\n",
    "F = K\n",
    "sigma_0 = 0.5\n",
    "sigma_inf = 0.2\n",
    "rho_inf = 0.75\n",
    "f_t_inf = rho_inf\n",
    "kappa = 1\n",
    "\n",
    "futures_mat_date = ql.Date(28, 3, 2024)\n",
    "option_nat_date = ql.Date(25, 3, 2024)\n",
    "value_date = ql.Date(18, 5, 2023) \n",
    "futures_exp_date = ql.Date(28, 7, 2023)"
   ]
  },
  {
   "cell_type": "code",
   "execution_count": 169,
   "metadata": {},
   "outputs": [],
   "source": [
    "h_inf = sigma_inf\n",
    "h1 = rho_inf * sigma_0 - h_inf\n",
    "h2 = np.sqrt(sigma_0**2 - (h1 + h_inf)**2)"
   ]
  },
  {
   "cell_type": "code",
   "execution_count": 170,
   "metadata": {},
   "outputs": [],
   "source": [
    "q = h1*h_inf / (h1**2 + h2**2)\n",
    "w = q*h_inf/h1"
   ]
  },
  {
   "cell_type": "code",
   "execution_count": 171,
   "metadata": {},
   "outputs": [],
   "source": [
    "def calibrate_d(d: float):\n",
    "    return (q * np.exp(d) + w)/(np.sqrt(w) * np.sqrt(np.exp(2 * d) + 2 * q * np.exp(d) + w)) - f_t_inf\n",
    "\n",
    "def calibrate_a(\n",
    "    iv: float, \n",
    "    value_date: date, \n",
    "    option_nat_date: date,\n",
    "    futures_mat_date: date,\n",
    "    d: float = 0\n",
    "):\n",
    "    first = (h1**2 + h2 ** 2) * np.exp(2 * d) * (np.exp(-2 * kappa * day_count.yearFraction(option_nat_date, futures_mat_date)) - np.exp(-2*kappa * day_count.yearFraction(value_date, futures_mat_date)))/(2 * kappa * day_count.yearFraction(value_date, option_nat_date))\n",
    "    second = 2 * h1 * h_inf * np.exp(d) * (np.exp(-kappa * day_count.yearFraction(option_nat_date, futures_mat_date)) - np.exp(-kappa * day_count.yearFraction(value_date, futures_mat_date)))/( kappa * day_count.yearFraction(value_date, option_nat_date)) \n",
    " \n",
    "    return np.log(iv**2/(first + second + h_inf**2))/2 "
   ]
  },
  {
   "cell_type": "code",
   "execution_count": 172,
   "metadata": {},
   "outputs": [
    {
     "data": {
      "text/plain": [
       "np.float64(-3.1720658386701825e-16)"
      ]
     },
     "execution_count": 172,
     "metadata": {},
     "output_type": "execute_result"
    }
   ],
   "source": [
    "d = fsolve(calibrate_d, 0)[0]\n",
    "d"
   ]
  },
  {
   "cell_type": "code",
   "execution_count": 173,
   "metadata": {},
   "outputs": [
    {
     "data": {
      "text/plain": [
       "np.float64(0.06296792015020447)"
      ]
     },
     "execution_count": 173,
     "metadata": {},
     "output_type": "execute_result"
    }
   ],
   "source": [
    "a = calibrate_a(iv, value_date, option_nat_date, futures_mat_date)\n",
    "a"
   ]
  },
  {
   "cell_type": "code",
   "execution_count": 174,
   "metadata": {},
   "outputs": [],
   "source": [
    "def Black(\n",
    "    S: float, \n",
    "    K: float, \n",
    "    T: float, \n",
    "    r: float, \n",
    "    sigma: float\n",
    "):\n",
    "    d1 = (np.log(S/K) + (r + sigma**2/2)*T) / (sigma*np.sqrt(T))\n",
    "    d2 = d1 - sigma * np.sqrt(T)\n",
    "    return S * norm.cdf(d1) - K *  norm.cdf(d2)"
   ]
  },
  {
   "cell_type": "code",
   "execution_count": 175,
   "metadata": {},
   "outputs": [
    {
     "data": {
      "text/plain": [
       "np.float64(0.34189546309789787)"
      ]
     },
     "execution_count": 175,
     "metadata": {},
     "output_type": "execute_result"
    }
   ],
   "source": [
    "first = (h1**2 + h2 ** 2) * np.exp(2 * d) * (np.exp(-2 * kappa * day_count.yearFraction(futures_exp_date, futures_mat_date)) - np.exp(-2*kappa * day_count.yearFraction(value_date, futures_mat_date)))/(2 * kappa * day_count.yearFraction(value_date, futures_exp_date))\n",
    "second = 2 * h1 * h_inf * np.exp(d) * (np.exp(-kappa * day_count.yearFraction(futures_exp_date, futures_mat_date)) - np.exp(-kappa * day_count.yearFraction(value_date, futures_mat_date)))/( kappa * day_count.yearFraction(value_date, futures_exp_date)) \n",
    "sigma_term = np.sqrt(first + second + h_inf**2) * np.exp(a)\n",
    "sigma_term"
   ]
  },
  {
   "cell_type": "code",
   "execution_count": 176,
   "metadata": {},
   "outputs": [
    {
     "name": "stdout",
     "output_type": "stream",
     "text": [
      "Undiscounted option price:  4.250876640431869\n"
     ]
    }
   ],
   "source": [
    "print(\"Undiscounted option price: \", Black(F, K, day_count.yearFraction(value_date, futures_exp_date), 0, sigma_term))"
   ]
  },
  {
   "cell_type": "code",
   "execution_count": null,
   "metadata": {},
   "outputs": [],
   "source": []
  }
 ],
 "metadata": {
  "kernelspec": {
   "display_name": ".venv",
   "language": "python",
   "name": "python3"
  },
  "language_info": {
   "codemirror_mode": {
    "name": "ipython",
    "version": 3
   },
   "file_extension": ".py",
   "mimetype": "text/x-python",
   "name": "python",
   "nbconvert_exporter": "python",
   "pygments_lexer": "ipython3",
   "version": "3.12.3"
  }
 },
 "nbformat": 4,
 "nbformat_minor": 2
}
