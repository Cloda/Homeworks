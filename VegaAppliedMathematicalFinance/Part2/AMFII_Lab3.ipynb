{
 "cells": [
  {
   "cell_type": "markdown",
   "metadata": {},
   "source": [
    "#### *Applied Mathematical Finance 2*"
   ]
  },
  {
   "cell_type": "markdown",
   "metadata": {},
   "source": [
    "## <ins> *Lab 3: Vanilla commodities* </ins>"
   ]
  },
  {
   "cell_type": "markdown",
   "metadata": {},
   "source": [
    "The deadline is 23:59 on 25th of May, 2025. The solution must be sent up to the deadline on amf2-2025-spring@yandex.ru.\n"
   ]
  },
  {
   "cell_type": "markdown",
   "metadata": {},
   "source": [
    "### 1. Composite coal swap (50 points)"
   ]
  },
  {
   "cell_type": "markdown",
   "metadata": {},
   "source": [
    "You are given a composite coal swap with\n",
    "\n",
    "* 12 observation dates $t_i$ equal to the last Friday of each calendar month of the year 2023.\n",
    "\n",
    "* $S$ corresponding to weekly coal fixing.\n",
    "\n",
    "* $X$ equal to the USDRUB fixing. \n",
    "\n",
    "* Payoff at $t_{12}$ is \n",
    "\n",
    "$$\\frac{1}{12} \\sum_{i=1}^{12} S_{t_i} X_{t_i + l} - K,$$\n",
    "\n",
    "with $l=-2$ weeks being the FX fixing lag and $K$ the strike of the swap contract. \n"
   ]
  },
  {
   "cell_type": "markdown",
   "metadata": {},
   "source": [
    "Also assume that \n",
    "\n",
    "* The value date $t_0$ is `03/01/2023`;\n",
    "\n",
    "* The continuously-compounded foreign-domestic rates difference $r_{\\text{USD}} - r_{\\text{RUB}} = 10\\%$;\n",
    "\n",
    "* The USDRUB spot and volatility equal to $100$ and $40\\%$;\n",
    "\n",
    "* The coal volatility is $50\\%$ and the Coal/FX correlation is $-80\\%$;\n",
    "\n",
    "* The coal monthly average futures quotes (denominated in USD currency) are given in `lab3.csv`."
   ]
  },
  {
   "cell_type": "markdown",
   "metadata": {
    "vscode": {
     "languageId": "powershell"
    }
   },
   "source": [
    "Finally, assume that the day count convention is `Act365`. "
   ]
  },
  {
   "cell_type": "markdown",
   "metadata": {},
   "source": [
    "#### 1.1 Curve stripping (25 points)"
   ]
  },
  {
   "cell_type": "markdown",
   "metadata": {},
   "source": [
    "Build weekly-observable forward curve. "
   ]
  },
  {
   "cell_type": "code",
   "execution_count": 1,
   "metadata": {
    "vscode": {
     "languageId": "powershell"
    }
   },
   "outputs": [],
   "source": [
    "# YOUR CODE HERE"
   ]
  },
  {
   "cell_type": "code",
   "execution_count": 3,
   "metadata": {
    "vscode": {
     "languageId": "powershell"
    }
   },
   "outputs": [],
   "source": [
    "# YOUR CODE HERE"
   ]
  },
  {
   "cell_type": "markdown",
   "metadata": {},
   "source": [
    "#### 1.2 Composite coal swap pricing (25 points)"
   ]
  },
  {
   "cell_type": "markdown",
   "metadata": {},
   "source": [
    "Using standard model of correlated Brownian motions compute par strike $K$ of a composite coal swap with the specifications provided above. "
   ]
  },
  {
   "cell_type": "code",
   "execution_count": 2,
   "metadata": {
    "vscode": {
     "languageId": "powershell"
    }
   },
   "outputs": [],
   "source": [
    "# YOUR CODE HERE"
   ]
  },
  {
   "cell_type": "code",
   "execution_count": 4,
   "metadata": {
    "vscode": {
     "languageId": "powershell"
    }
   },
   "outputs": [],
   "source": [
    "# YOUR CODE HERE"
   ]
  },
  {
   "cell_type": "markdown",
   "metadata": {},
   "source": [
    "### 2. Brent vanilla option with early expiry (50 points)"
   ]
  },
  {
   "cell_type": "markdown",
   "metadata": {},
   "source": [
    "You are given a European call option on BRENT_MAY_24 oil futures with expiry date `28/07/2023` and the strike $K = 70.73$. "
   ]
  },
  {
   "cell_type": "markdown",
   "metadata": {
    "vscode": {
     "languageId": "powershell"
    }
   },
   "source": [
    "Assume that \n",
    "\n",
    "* The value date $t_0$ is `18/05/2023`;\n",
    "\n",
    "* The BRENT_MAT_24 futures contract price is $70.73$ (that is, the option is ATM);\n",
    "\n",
    "* The market implied volatility is $41.61\\%$ and the natural option maturity is `25/03/2024`; \n",
    "\n",
    "* The futures contract maturity is `28/03/2024`;\n",
    "\n",
    "* The Andersen's model parameters are $\\sigma_0 = 0.5$, $\\sigma_{\\infty} = 0.2$, $\\rho_{\\infty} = 0.75$, $\\kappa = 1$. Also assume that there is no seasonality in correlations, i.e. $f_{\\infty}(t) = \\rho_{\\infty}$."
   ]
  },
  {
   "cell_type": "markdown",
   "metadata": {},
   "source": [
    "Using the Andersen's model, find the (undiscounted) price of a Europan call described above."
   ]
  },
  {
   "cell_type": "code",
   "execution_count": 6,
   "metadata": {
    "vscode": {
     "languageId": "powershell"
    }
   },
   "outputs": [],
   "source": [
    "# YOUR CODE HERE"
   ]
  },
  {
   "cell_type": "code",
   "execution_count": 7,
   "metadata": {
    "vscode": {
     "languageId": "powershell"
    }
   },
   "outputs": [],
   "source": [
    "# YOUR CODE HERE"
   ]
  }
 ],
 "metadata": {
  "kernelspec": {
   "display_name": "amf",
   "language": "python",
   "name": "python3"
  },
  "language_info": {
   "codemirror_mode": {
    "name": "ipython",
    "version": 3
   },
   "file_extension": ".py",
   "mimetype": "text/x-python",
   "name": "python",
   "nbconvert_exporter": "python",
   "pygments_lexer": "ipython3",
   "version": "3.11.2"
  }
 },
 "nbformat": 4,
 "nbformat_minor": 2
}
