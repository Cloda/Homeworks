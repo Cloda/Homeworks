{
 "cells": [
  {
   "cell_type": "markdown",
   "metadata": {},
   "source": [
    "Необходимо из котировок построить дисконтирующую кривую и проинтерполировать ее."
   ]
  },
  {
   "cell_type": "code",
   "execution_count": 5,
   "metadata": {},
   "outputs": [],
   "source": [
    "import pandas\n",
    "from datetime import date"
   ]
  },
  {
   "cell_type": "code",
   "execution_count": 6,
   "metadata": {},
   "outputs": [],
   "source": [
    "data = pandas.DataFrame(\n",
    "\t{\n",
    "\t\t\"Instrument_code\": [\n",
    "\t\t\t\"USD_3M_LIBOR\", \"USD_3M_LIBOR_3x6\",\n",
    "\t\t\t\"USD_3M_LIBOR_6x9\", \"USD_1Y_3M_LIBOR_1Y_FIX\",\n",
    "\t\t\t\"USD_2Y_3M_LIBOR_1Y_FIX\", \"USD_3Y_3M_LIBOR_1Y_FIX\",\n",
    "\t\t\t\"USD_4Y_3M_LIBOR_1Y_FIX\", \"USD_5Y_3M_LIBOR_1Y_FIX\",\n",
    "\t\t\t\"USD_6Y_3M_LIBOR_1Y_FIX\", \"USD_7Y_3M_LIBOR_1Y_FIX\",\n",
    "\t\t\t\"USD_8Y_3M_LIBOR_1Y_FIX\", \"USD_9Y_3M_LIBOR_1Y_FIX\",\n",
    "\t\t\t\"USD_10Y_3M_LIBOR_1Y_FIX\", \"USD_12Y_3M_LIBOR_1Y_FIX\",\n",
    "\t\t\t\"USD_15Y_3M_LIBOR_1Y_FIX\", \"USD_20Y_3M_LIBOR_1Y_FIX\",\n",
    "\t\t\t\"USD_25Y_3M_LIBOR_1Y_FIX\", \"USD_30Y_3M_LIBOR_1Y_FIX\"\n",
    "\t\t],\n",
    "\t\t\"Quote\": [\n",
    "\t\t\t0.3000, 0.7500, 1.1000, 0.9000, 1.3300, 1.5300, 1.6300,\n",
    "\t\t\t1.6900, 1.7300,\n",
    "\t\t\t1.7700, 1.8000, 1.8200, 1.8400, 1.8900, 1.9300, 1.9600,\n",
    "\t\t\t1.9500, 1.9200\n",
    "\t\t],\n",
    "\t\t\"Instrument_Type\": [\n",
    "\t\t\t\"Deposit\", \"FRA\", \"FRA\", \"IRS\", \"IRS\", \"IRS\", \"IRS\",\n",
    "\t\t\t\"IRS\", \"IRS\",\n",
    "\t\t\t\"IRS\", \"IRS\", \"IRS\", \"IRS\", \"IRS\", \"IRS\", \"IRS\", \"IRS\",\n",
    "\t\t\t\"IRS\"\n",
    "\t\t]\n",
    "\t}\n",
    ")\n",
    "\n",
    "valueDate = date(2022, 1, 31)\n",
    "calendar = \"\"\n"
   ]
  },
  {
   "cell_type": "code",
   "execution_count": null,
   "metadata": {},
   "outputs": [],
   "source": []
  }
 ],
 "metadata": {
  "kernelspec": {
   "display_name": ".venv",
   "language": "python",
   "name": "python3"
  },
  "language_info": {
   "codemirror_mode": {
    "name": "ipython",
    "version": 3
   },
   "file_extension": ".py",
   "mimetype": "text/x-python",
   "name": "python",
   "nbconvert_exporter": "python",
   "pygments_lexer": "ipython3",
   "version": "3.12.3"
  }
 },
 "nbformat": 4,
 "nbformat_minor": 2
}
