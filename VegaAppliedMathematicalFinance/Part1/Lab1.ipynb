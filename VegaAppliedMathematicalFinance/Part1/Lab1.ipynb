{
 "cells": [
  {
   "cell_type": "markdown",
   "metadata": {},
   "source": [
    "Необходимо из котировок построить дисконтирующую кривую и проинтерполировать ее."
   ]
  },
  {
   "cell_type": "code",
   "execution_count": 1,
   "metadata": {},
   "outputs": [],
   "source": [
    "import pandas\n",
    "import numpy\n",
    "from datetime import date\n",
    "import QuantLib\n",
    "from scipy.interpolate import interp1d\n",
    "import matplotlib.pyplot"
   ]
  },
  {
   "cell_type": "code",
   "execution_count": 2,
   "metadata": {},
   "outputs": [],
   "source": [
    "def makeException():\n",
    "    raise ValueError(\"Not implemented\")"
   ]
  },
  {
   "cell_type": "code",
   "execution_count": 3,
   "metadata": {},
   "outputs": [],
   "source": [
    "def getZeroRateFromDiscountingFactor(\n",
    "    discountingFactor: float,\n",
    "    yearFraction: float\n",
    ") -> float:\n",
    "    return ((1 / discountingFactor) - 1) / yearFraction"
   ]
  },
  {
   "cell_type": "code",
   "execution_count": 4,
   "metadata": {},
   "outputs": [],
   "source": [
    "def getDiscountingFactorFromRates(\n",
    "    rate: float,\n",
    "    yearFraction: float\n",
    ") -> float:\n",
    "    return 1 / (1 + yearFraction * rate)"
   ]
  },
  {
   "cell_type": "code",
   "execution_count": 5,
   "metadata": {},
   "outputs": [],
   "source": [
    "class Calendar:\n",
    "    def __init__(\n",
    "        self,\n",
    "        name: str = \"US\",\n",
    "        market: str = \"NYSE\",\n",
    "    ):\n",
    "        if name == \"US\" and market == \"NYSE\":\n",
    "            self.__implementation = QuantLib.UnitedStates(\n",
    "                QuantLib.UnitedStates.NYSE\n",
    "            )\n",
    "        else:\n",
    "            makeException()\n",
    "\n",
    "    @staticmethod\n",
    "    def getQuantlibDate(observationDate: date) -> QuantLib.Date:\n",
    "        return QuantLib.Date(\n",
    "            observationDate.day,\n",
    "            observationDate.month,\n",
    "            observationDate.year\n",
    "        )\n",
    "\n",
    "    @staticmethod\n",
    "    def getPythonDate(observationDate: QuantLib.Date) -> date:\n",
    "        return date(\n",
    "            observationDate.year(),\n",
    "            observationDate.month(),\n",
    "            observationDate.dayOfMonth(),\n",
    "        )\n",
    "\n",
    "    def isHoliday(self, observationDate: QuantLib.Date) -> bool:\n",
    "        return self.__implementation.isHoliday(observationDate)\n",
    "\n",
    "    def advance(\n",
    "        self,\n",
    "        observationDate: QuantLib.Date,\n",
    "        shift: int = 2,\n",
    "        typePeriod = QuantLib.Days,\n",
    "    ) -> QuantLib.Date:\n",
    "        return self.__implementation.advance(\n",
    "            observationDate,\n",
    "            QuantLib.Period(shift, typePeriod),\n",
    "            QuantLib.Following,\n",
    "            False\n",
    "        )"
   ]
  },
  {
   "cell_type": "code",
   "execution_count": 6,
   "metadata": {},
   "outputs": [],
   "source": [
    "class Act360:\n",
    "    def __init__(self, calendar: Calendar):\n",
    "        self.__implementation = QuantLib.Actual360()\n",
    "        self.__calendar = calendar\n",
    "    \n",
    "    def getYearFraction(\n",
    "        self,\n",
    "        startDate: QuantLib.Date, \n",
    "        endDate: QuantLib.Date\n",
    "    ) -> float:\n",
    "        return self.__implementation.yearFraction(startDate, endDate)"
   ]
  },
  {
   "cell_type": "code",
   "execution_count": 7,
   "metadata": {},
   "outputs": [],
   "source": [
    "calendar = Calendar()\n",
    "dayCount = Act360(calendar)\n",
    "valueDate = calendar.getQuantlibDate(date(2022, 1, 31))\n",
    "startDate = calendar.advance(valueDate)\n",
    "fixingDates = []\n",
    "yearFractions = []\n",
    "totalYearFractions = []\n",
    "discountingCurve = []\n",
    "zeroRates = []\n"
   ]
  },
  {
   "cell_type": "markdown",
   "metadata": {},
   "source": [
    "#### USD_3M_LIBOR - Deposit"
   ]
  },
  {
   "cell_type": "code",
   "execution_count": 8,
   "metadata": {},
   "outputs": [],
   "source": [
    "fixingDates.append(\n",
    "    calendar.advance(calendar.advance(startDate, 3, QuantLib.Months))\n",
    ")\n",
    "yearFractions.append(dayCount.getYearFraction(valueDate, fixingDates[-1]))\n",
    "totalYearFractions.append(\n",
    "    dayCount.getYearFraction(valueDate, fixingDates[-1])\n",
    ")\n",
    "discountingCurve.append(\n",
    "    getDiscountingFactorFromRates(0.003, yearFractions[-1])\n",
    ")\n",
    "zeroRates.append(\n",
    "    getZeroRateFromDiscountingFactor(\n",
    "        discountingCurve[-1], \n",
    "        totalYearFractions[-1]\n",
    "    )\n",
    ")"
   ]
  },
  {
   "cell_type": "code",
   "execution_count": 9,
   "metadata": {},
   "outputs": [
    {
     "data": {
      "text/plain": [
       "[0.25833333333333336]"
      ]
     },
     "execution_count": 9,
     "metadata": {},
     "output_type": "execute_result"
    }
   ],
   "source": [
    "yearFractions"
   ]
  },
  {
   "cell_type": "code",
   "execution_count": 10,
   "metadata": {},
   "outputs": [
    {
     "data": {
      "text/plain": [
       "[0.9992256001598762]"
      ]
     },
     "execution_count": 10,
     "metadata": {},
     "output_type": "execute_result"
    }
   ],
   "source": [
    "discountingCurve"
   ]
  },
  {
   "cell_type": "code",
   "execution_count": 11,
   "metadata": {},
   "outputs": [
    {
     "data": {
      "text/plain": [
       "[0.0029999999999998843]"
      ]
     },
     "execution_count": 11,
     "metadata": {},
     "output_type": "execute_result"
    }
   ],
   "source": [
    "zeroRates"
   ]
  },
  {
   "cell_type": "code",
   "execution_count": 12,
   "metadata": {},
   "outputs": [
    {
     "data": {
      "text/plain": [
       "[0.25833333333333336]"
      ]
     },
     "execution_count": 12,
     "metadata": {},
     "output_type": "execute_result"
    }
   ],
   "source": [
    "totalYearFractions"
   ]
  },
  {
   "cell_type": "markdown",
   "metadata": {},
   "source": [
    "#### USD_3M_LIBOR_3x6 - FRA"
   ]
  },
  {
   "cell_type": "code",
   "execution_count": 13,
   "metadata": {},
   "outputs": [],
   "source": [
    "fixingDates.append(\n",
    "    calendar.advance(calendar.advance(fixingDates[-1], 3, QuantLib.Months))\n",
    ")\n",
    "yearFractions.append(\n",
    "    dayCount.getYearFraction(fixingDates[-2], fixingDates[-1])\n",
    ")\n",
    "totalYearFractions.append(\n",
    "    dayCount.getYearFraction(valueDate, fixingDates[-1])\n",
    ")\n",
    "discountingCurve.append(\n",
    "    discountingCurve[-1] * getDiscountingFactorFromRates(\n",
    "        0.0075,\n",
    "        yearFractions[-1]\n",
    "    )\n",
    ")\n",
    "zeroRates.append(\n",
    "    getZeroRateFromDiscountingFactor(\n",
    "        discountingCurve[-1], \n",
    "        totalYearFractions[-1]\n",
    "    )\n",
    ")"
   ]
  },
  {
   "cell_type": "markdown",
   "metadata": {},
   "source": [
    "#### USD_3M_LIBOR_6x9 - FRA"
   ]
  },
  {
   "cell_type": "code",
   "execution_count": 14,
   "metadata": {},
   "outputs": [],
   "source": [
    "fixingDates.append(\n",
    "    calendar.advance(calendar.advance(fixingDates[-1], 3, QuantLib.Months))\n",
    ")\n",
    "yearFractions.append(\n",
    "    dayCount.getYearFraction(fixingDates[-2], fixingDates[-1])\n",
    ")\n",
    "totalYearFractions.append(\n",
    "    dayCount.getYearFraction(valueDate, fixingDates[-1])\n",
    ")\n",
    "discountingCurve.append(\n",
    "    discountingCurve[-1] * getDiscountingFactorFromRates(\n",
    "        0.011, \n",
    "        yearFractions[-1]\n",
    "    )\n",
    ")\n",
    "zeroRates.append(\n",
    "    getZeroRateFromDiscountingFactor(\n",
    "        discountingCurve[-1], \n",
    "        totalYearFractions[-1]\n",
    "    )\n",
    ")"
   ]
  },
  {
   "cell_type": "markdown",
   "metadata": {},
   "source": [
    "#### USD_1Y_3M_LIBOR_1Y_FIX - IRS"
   ]
  },
  {
   "cell_type": "code",
   "execution_count": 15,
   "metadata": {},
   "outputs": [],
   "source": [
    "def getZeroRateFromIRS(\n",
    "    swapRate: float,\n",
    "    lastTotalYearFraction: float,\n",
    "    zeroRates: list, \n",
    "    totalYearFractions: list,\n",
    "    propotionsCouponOfAnnuity: list,\n",
    "    propotionLastCoupon: float\n",
    ") -> float:\n",
    "    result = 0\n",
    "    for propotion, zeroRate, yearFraction in zip(\n",
    "        propotionsCouponOfAnnuity,\n",
    "        zeroRates, \n",
    "        totalYearFractions\n",
    "    ):\n",
    "        result += propotion * swapRate * getDiscountingFactorFromRates(\n",
    "            zeroRate,\n",
    "            yearFraction\n",
    "        )\n",
    "    return (\n",
    "        (1 + propotionLastCoupon * swapRate) / \n",
    "        (1 - result) - 1) / lastTotalYearFraction"
   ]
  },
  {
   "cell_type": "code",
   "execution_count": 16,
   "metadata": {},
   "outputs": [],
   "source": [
    "fixingDates.append(\n",
    "    calendar.advance(calendar.advance(fixingDates[-1], 3, QuantLib.Months))\n",
    ")\n",
    "lastTotalYearFraction = dayCount.getYearFraction(valueDate, fixingDates[-1])\n",
    "propotionCouponOfAnnuity = [1/4, 1/4, 1/4]\n",
    "yearFractions.append(\n",
    "    dayCount.getYearFraction(fixingDates[-2], fixingDates[-1])\n",
    ")\n",
    "zeroRates.append(\n",
    "    getZeroRateFromIRS(\n",
    "        0.009, \n",
    "        lastTotalYearFraction,\n",
    "        zeroRates, \n",
    "        totalYearFractions,\n",
    "        propotionCouponOfAnnuity,\n",
    "        propotionLastCoupon = 1/4\n",
    "    )\n",
    ")\n",
    "\n",
    "totalYearFractions.append(lastTotalYearFraction)\n",
    "discountingCurve.append(\n",
    "    discountingCurve[-1] * getDiscountingFactorFromRates(\n",
    "        zeroRates[-1], \n",
    "        yearFractions[-1]\n",
    "    )\n",
    ")\n"
   ]
  },
  {
   "cell_type": "markdown",
   "metadata": {},
   "source": [
    "#### USD_2Y_3M_LIBOR_1Y_FIX - IRS"
   ]
  },
  {
   "cell_type": "code",
   "execution_count": 17,
   "metadata": {},
   "outputs": [],
   "source": [
    "fixingDates.append(\n",
    "    calendar.advance(\n",
    "        calendar.advance(fixingDates[-1], 1, QuantLib.Years)\n",
    "    )\n",
    ")\n",
    "lastTotalYearFraction = dayCount.getYearFraction(valueDate, fixingDates[-1])\n",
    "propotionCouponOfAnnuity = [1]\n",
    "yearFractions.append(\n",
    "    dayCount.getYearFraction(fixingDates[-2], fixingDates[-1])\n",
    ")\n",
    "\n",
    "zeroRates.append(\n",
    "    getZeroRateFromIRS(\n",
    "        0.0133, \n",
    "        lastTotalYearFraction,\n",
    "        [zeroRates[-1]], \n",
    "        [totalYearFractions[-1]],\n",
    "        propotionCouponOfAnnuity,\n",
    "        propotionLastCoupon = 1\n",
    "    )\n",
    ")\n",
    "\n",
    "totalYearFractions.append(lastTotalYearFraction)\n",
    "discountingCurve.append(\n",
    "    discountingCurve[-1] * getDiscountingFactorFromRates(\n",
    "        zeroRates[-1], \n",
    "        yearFractions[-1]\n",
    "    )\n",
    ")"
   ]
  },
  {
   "cell_type": "markdown",
   "metadata": {},
   "source": [
    "#### Оставшиеся свопы"
   ]
  },
  {
   "cell_type": "code",
   "execution_count": 18,
   "metadata": {},
   "outputs": [],
   "source": [
    "previousMaturity = 2\n",
    "for maturity, swapRate in zip(\n",
    "    [3, 4, 5, 6, 7, 8, 9, 10],\n",
    "    [\n",
    "        0.0153, 0.0163, 0.0169, 0.0173, \n",
    "        0.0177, 0.018, 0.0182, 0.0184\n",
    "    ]\n",
    "):\n",
    "    differences = maturity - previousMaturity\n",
    "    fixingDates.append(\n",
    "        calendar.advance(\n",
    "            calendar.advance(fixingDates[-1], differences, QuantLib.Years)\n",
    "        )\n",
    "    )\n",
    "    lastTotalYearFraction = dayCount.getYearFraction(\n",
    "        valueDate,\n",
    "        fixingDates[-1]\n",
    "    )\n",
    "    propotionCouponOfAnnuity.append(1)\n",
    "    yearFractions.append(\n",
    "        dayCount.getYearFraction(fixingDates[-2], fixingDates[-1])\n",
    "    )\n",
    "    zeroRates.append(\n",
    "        getZeroRateFromIRS(\n",
    "            swapRate, \n",
    "            lastTotalYearFraction,\n",
    "            zeroRates[4:], \n",
    "            totalYearFractions[4:],\n",
    "            propotionCouponOfAnnuity,\n",
    "            propotionLastCoupon = 1\n",
    "        )\n",
    "    )\n",
    "    totalYearFractions.append(lastTotalYearFraction)\n",
    "    discountingCurve.append(\n",
    "        discountingCurve[-1] * getDiscountingFactorFromRates(\n",
    "            zeroRates[-1], \n",
    "            yearFractions[-1]\n",
    "        )\n",
    "    )\n",
    "    \n",
    "    previousMaturity = maturity"
   ]
  },
  {
   "cell_type": "markdown",
   "metadata": {},
   "source": [
    ", 12, 15, 20, 25, 30\n",
    ", 0.0189, 0.0193, 0.0196, 0.0195, 0.0192\n"
   ]
  },
  {
   "cell_type": "markdown",
   "metadata": {},
   "source": [
    "#### USD_12Y_3M_LIBOR_1Y_FIX - IRS"
   ]
  },
  {
   "cell_type": "code",
   "execution_count": 19,
   "metadata": {},
   "outputs": [],
   "source": [
    "fixingDates.append(\n",
    "    calendar.advance(\n",
    "        calendar.advance(fixingDates[-1], 2, QuantLib.Years)\n",
    "    )\n",
    ")\n",
    "lastTotalYearFraction = dayCount.getYearFraction(valueDate, fixingDates[-1])\n",
    "propotionCouponOfAnnuity = [2, 2, 2, 2]\n",
    "yearFractions.append(\n",
    "    dayCount.getYearFraction(fixingDates[-2], fixingDates[-1])\n",
    ")\n",
    "\n",
    "zeroRates.append(\n",
    "    getZeroRateFromIRS(\n",
    "        0.0189, \n",
    "        lastTotalYearFraction,\n",
    "        zeroRates[4::2], \n",
    "        totalYearFractions[4::2],\n",
    "        propotionCouponOfAnnuity,\n",
    "        propotionLastCoupon = 2\n",
    "    )\n",
    ")\n",
    "\n",
    "totalYearFractions.append(lastTotalYearFraction)\n",
    "discountingCurve.append(\n",
    "    discountingCurve[-1] * getDiscountingFactorFromRates(\n",
    "        zeroRates[-1], \n",
    "        yearFractions[-1]\n",
    "    )\n",
    ")"
   ]
  },
  {
   "cell_type": "markdown",
   "metadata": {},
   "source": [
    "#### USD_15Y_3M_LIBOR_1Y_FIX - IRS"
   ]
  },
  {
   "cell_type": "code",
   "execution_count": 20,
   "metadata": {},
   "outputs": [],
   "source": [
    "fixingDates.append(\n",
    "    calendar.advance(\n",
    "        calendar.advance(fixingDates[-1], 3, QuantLib.Years)\n",
    "    )\n",
    ")\n",
    "lastTotalYearFraction = dayCount.getYearFraction(valueDate, fixingDates[-1])\n",
    "propotionCouponOfAnnuity = [5, 5]\n",
    "yearFractions.append(\n",
    "    dayCount.getYearFraction(fixingDates[-2], fixingDates[-1])\n",
    ")\n",
    "\n",
    "zeroRates.append(\n",
    "    getZeroRateFromIRS(\n",
    "        0.0193, \n",
    "        lastTotalYearFraction,\n",
    "        zeroRates[7::5], \n",
    "        totalYearFractions[7::5],\n",
    "        propotionCouponOfAnnuity,\n",
    "        propotionLastCoupon = 5\n",
    "    )\n",
    ")\n",
    "\n",
    "totalYearFractions.append(lastTotalYearFraction)\n",
    "discountingCurve.append(\n",
    "    discountingCurve[-1] * getDiscountingFactorFromRates(\n",
    "        zeroRates[-1], \n",
    "        yearFractions[-1]\n",
    "    )\n",
    ")"
   ]
  },
  {
   "cell_type": "markdown",
   "metadata": {},
   "source": [
    "#### USD_20Y_3M_LIBOR_1Y_FIX - IRS"
   ]
  },
  {
   "cell_type": "code",
   "execution_count": 21,
   "metadata": {},
   "outputs": [],
   "source": [
    "fixingDates.append(\n",
    "    calendar.advance(\n",
    "        calendar.advance(fixingDates[-1], 5, QuantLib.Years)\n",
    "    )\n",
    ")\n",
    "lastTotalYearFraction = dayCount.getYearFraction(valueDate, fixingDates[-1])\n",
    "propotionCouponOfAnnuity = [5, 5, 5]\n",
    "yearFractions.append(\n",
    "    dayCount.getYearFraction(fixingDates[-2], fixingDates[-1])\n",
    ")\n",
    "\n",
    "zeroRates.append(\n",
    "    getZeroRateFromIRS(\n",
    "        0.0196, \n",
    "        lastTotalYearFraction,\n",
    "        [*zeroRates[7::5], zeroRates[-1]], \n",
    "        [*totalYearFractions[7::5], totalYearFractions[-1]], \n",
    "        propotionCouponOfAnnuity,\n",
    "        propotionLastCoupon = 5\n",
    "    )\n",
    ")\n",
    "\n",
    "totalYearFractions.append(lastTotalYearFraction)\n",
    "discountingCurve.append(\n",
    "    discountingCurve[-1] * getDiscountingFactorFromRates(\n",
    "        zeroRates[-1], \n",
    "        yearFractions[-1]\n",
    "    )\n",
    ")"
   ]
  },
  {
   "cell_type": "markdown",
   "metadata": {},
   "source": [
    "#### USD_25Y_3M_LIBOR_1Y_FIX - IRS"
   ]
  },
  {
   "cell_type": "code",
   "execution_count": 22,
   "metadata": {},
   "outputs": [],
   "source": [
    "fixingDates.append(\n",
    "    calendar.advance(\n",
    "        calendar.advance(fixingDates[-1], 5, QuantLib.Years)\n",
    "    )\n",
    ")\n",
    "lastTotalYearFraction = dayCount.getYearFraction(valueDate, fixingDates[-1])\n",
    "propotionCouponOfAnnuity = [5, 5, 5, 5]\n",
    "yearFractions.append(\n",
    "    dayCount.getYearFraction(fixingDates[-2], fixingDates[-1])\n",
    ")\n",
    "\n",
    "zeroRates.append(\n",
    "    getZeroRateFromIRS(\n",
    "        0.0195, \n",
    "        lastTotalYearFraction,\n",
    "        [*zeroRates[7::5], *zeroRates[-1:-3:-1]], \n",
    "        [*totalYearFractions[7::5], *totalYearFractions[-1:-3:-1]],  \n",
    "        propotionCouponOfAnnuity,\n",
    "        propotionLastCoupon = 5\n",
    "    )\n",
    ")\n",
    "\n",
    "totalYearFractions.append(lastTotalYearFraction)\n",
    "discountingCurve.append(\n",
    "    discountingCurve[-1] * getDiscountingFactorFromRates(\n",
    "        zeroRates[-1], \n",
    "        yearFractions[-1]\n",
    "    )\n",
    ")"
   ]
  },
  {
   "cell_type": "markdown",
   "metadata": {},
   "source": [
    "#### USD_30Y_3M_LIBOR_1Y_FIX - IRS"
   ]
  },
  {
   "cell_type": "code",
   "execution_count": 23,
   "metadata": {},
   "outputs": [],
   "source": [
    "fixingDates.append(\n",
    "    calendar.advance(\n",
    "        calendar.advance(fixingDates[-1], 5, QuantLib.Years)\n",
    "    )\n",
    ")\n",
    "lastTotalYearFraction = dayCount.getYearFraction(valueDate, fixingDates[-1])\n",
    "propotionCouponOfAnnuity = [15]\n",
    "yearFractions.append(\n",
    "    dayCount.getYearFraction(fixingDates[-2], fixingDates[-1])\n",
    ")\n",
    "\n",
    "zeroRates.append(\n",
    "    getZeroRateFromIRS(\n",
    "        0.0192, \n",
    "        lastTotalYearFraction,\n",
    "        [zeroRates[-3]], \n",
    "        [totalYearFractions[-3]], \n",
    "        propotionCouponOfAnnuity,\n",
    "        propotionLastCoupon = 15\n",
    "    )\n",
    ")\n",
    "\n",
    "totalYearFractions.append(lastTotalYearFraction)\n",
    "discountingCurve.append(\n",
    "    discountingCurve[-1] * getDiscountingFactorFromRates(\n",
    "        zeroRates[-1], \n",
    "        yearFractions[-1]\n",
    "    )\n",
    ")"
   ]
  },
  {
   "cell_type": "markdown",
   "metadata": {},
   "source": [
    "# !!Исправить прибавление к каждой fixingDates два дня"
   ]
  },
  {
   "cell_type": "code",
   "execution_count": 24,
   "metadata": {},
   "outputs": [
    {
     "data": {
      "text/plain": [
       "[0.9992256001598762,\n",
       " 0.9972311378841079,\n",
       " 0.9943750717059303,\n",
       " 0.9921032865297462,\n",
       " 0.9791767389128327,\n",
       " 0.9693244821642714,\n",
       " 0.9575326288217197,\n",
       " 0.9445708098635657,\n",
       " 0.930726346655931,\n",
       " 0.9162217574948991,\n",
       " 0.9013157439473816,\n",
       " 0.8860217303325073,\n",
       " 0.8704358096192266,\n",
       " 0.8415042751801654,\n",
       " 0.7905404087231805,\n",
       " 0.7091669965211074,\n",
       " 0.6333960393446224,\n",
       " 0.5720346854340879]"
      ]
     },
     "execution_count": 24,
     "metadata": {},
     "output_type": "execute_result"
    }
   ],
   "source": [
    "discountingCurve"
   ]
  },
  {
   "cell_type": "code",
   "execution_count": 25,
   "metadata": {},
   "outputs": [
    {
     "data": {
      "text/plain": [
       "[0.25833333333333336,\n",
       " 0.26666666666666666,\n",
       " 0.2611111111111111,\n",
       " 0.26666666666666666,\n",
       " 1.0194444444444444,\n",
       " 1.0277777777777777,\n",
       " 1.025,\n",
       " 1.0194444444444444,\n",
       " 1.025,\n",
       " 1.025,\n",
       " 1.0194444444444444,\n",
       " 1.025,\n",
       " 1.0277777777777777,\n",
       " 2.033333333333333,\n",
       " 3.05,\n",
       " 5.0777777777777775,\n",
       " 5.083333333333333,\n",
       " 5.080555555555556]"
      ]
     },
     "execution_count": 25,
     "metadata": {},
     "output_type": "execute_result"
    }
   ],
   "source": [
    "yearFractions"
   ]
  },
  {
   "cell_type": "code",
   "execution_count": 26,
   "metadata": {},
   "outputs": [
    {
     "data": {
      "text/plain": [
       "[0.0029999999999998843,\n",
       " 0.005288666666666856,\n",
       " 0.007195862023674873,\n",
       " 0.008587003517032423,\n",
       " 0.012949646073960557,\n",
       " 0.009889340169906495,\n",
       " 0.012014470125808117,\n",
       " 0.013460706884934698,\n",
       " 0.014512099525098432,\n",
       " 0.015444752951927612,\n",
       " 0.016222619831734245,\n",
       " 0.01684043221712032,\n",
       " 0.017421939039428562,\n",
       " 0.016908557584658673,\n",
       " 0.021136761926077916,\n",
       " 0.022597496136900756,\n",
       " 0.023533083792137862,\n",
       " 0.021113555088625058]"
      ]
     },
     "execution_count": 26,
     "metadata": {},
     "output_type": "execute_result"
    }
   ],
   "source": [
    "zeroRates"
   ]
  },
  {
   "cell_type": "code",
   "execution_count": 27,
   "metadata": {},
   "outputs": [
    {
     "data": {
      "text/plain": [
       "[0.25833333333333336,\n",
       " 0.525,\n",
       " 0.7861111111111111,\n",
       " 1.0527777777777778,\n",
       " 2.0722222222222224,\n",
       " 3.1,\n",
       " 4.125,\n",
       " 5.144444444444445,\n",
       " 6.169444444444444,\n",
       " 7.194444444444445,\n",
       " 8.213888888888889,\n",
       " 9.238888888888889,\n",
       " 10.266666666666667,\n",
       " 12.3,\n",
       " 15.35,\n",
       " 20.427777777777777,\n",
       " 25.511111111111113,\n",
       " 30.591666666666665]"
      ]
     },
     "execution_count": 27,
     "metadata": {},
     "output_type": "execute_result"
    }
   ],
   "source": [
    "totalYearFractions"
   ]
  },
  {
   "cell_type": "code",
   "execution_count": 28,
   "metadata": {},
   "outputs": [],
   "source": [
    "def getInterpolatatedDiscountingFactor(\n",
    "    abscisa: float, \n",
    "    abscissas: list, \n",
    "    ordinates: list\n",
    "):\n",
    "    abscissas = numpy.array(abscissas)\n",
    "    ordinates = numpy.log(numpy.array(ordinates))\n",
    "    return numpy.exp(\n",
    "        interp1d(\n",
    "            abscissas,\n",
    "            ordinates,\n",
    "            kind='linear', \n",
    "            fill_value=\"extrapolate\"\n",
    "        )(abscisa)\n",
    "    )"
   ]
  },
  {
   "cell_type": "code",
   "execution_count": 30,
   "metadata": {},
   "outputs": [
    {
     "data": {
      "image/png": "[encoded data removed]",
      "text/plain": [
       "<Figure size 640x480 with 1 Axes>"
      ]
     },
     "metadata": {},
     "output_type": "display_data"
    }
   ],
   "source": [
    "mesh = numpy.linspace(0, 32, 100)         \n",
    "values = []\n",
    "for x in mesh:\n",
    "    values.append(\n",
    "        getInterpolatatedDiscountingFactor(\n",
    "            x,\n",
    "            totalYearFractions,\n",
    "            discountingCurve\n",
    "        )\n",
    "    )\n",
    "\n",
    "matplotlib.pyplot.scatter(\n",
    "    totalYearFractions,\n",
    "    discountingCurve, \n",
    "    label=\"Исходные данные\",\n",
    "    zorder=2\n",
    ")\n",
    "matplotlib.pyplot.plot(\n",
    "    mesh, \n",
    "    values, \n",
    "    '-', \n",
    "    label=\"Интерполяция\", \n",
    "    c=\"r\", \n",
    "    zorder=1\n",
    ") \n",
    "matplotlib.pyplot.legend()\n",
    "matplotlib.pyplot.show()"
   ]
  },
  {
   "cell_type": "code",
   "execution_count": null,
   "metadata": {},
   "outputs": [],
   "source": []
  }
 ],
 "metadata": {
  "kernelspec": {
   "display_name": ".venv",
   "language": "python",
   "name": "python3"
  },
  "language_info": {
   "codemirror_mode": {
    "name": "ipython",
    "version": 3
   },
   "file_extension": ".py",
   "mimetype": "text/x-python",
   "name": "python",
   "nbconvert_exporter": "python",
   "pygments_lexer": "ipython3",
   "version": "3.12.3"
  }
 },
 "nbformat": 4,
 "nbformat_minor": 2
}
