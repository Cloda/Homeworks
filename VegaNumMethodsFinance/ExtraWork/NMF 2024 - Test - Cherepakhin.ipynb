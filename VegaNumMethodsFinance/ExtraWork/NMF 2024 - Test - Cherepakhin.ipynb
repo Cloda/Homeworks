{
 "cells": [
  {
   "cell_type": "markdown",
   "metadata": {},
   "source": [
    "## Numerical Methods In Finance | fall 2024\n"
   ]
  },
  {
   "cell_type": "markdown",
   "metadata": {},
   "source": [
    "### *Test*"
   ]
  },
  {
   "cell_type": "markdown",
   "metadata": {},
   "source": [
    "Please send your file to **vantipov@nes.ru** with topic **\"NMF 2024 - Test - Surname\"**. Please also rename your file as **\"Surname_NMF2024_Test.ipynb\"** before sending. If your answer contains many files, please add them to archive (e.g. use zip format) with the same name as the main file.\n",
    "\n",
    "If you have any questions feel free to ask in Telegram in the group chat."
   ]
  },
  {
   "cell_type": "markdown",
   "metadata": {},
   "source": [
    "### 1. Salvaging a linear correlation matrix"
   ]
  },
  {
   "cell_type": "markdown",
   "metadata": {},
   "source": [
    "You are given a correlation matrix estimated by the historical returns on the following equity stocks **SBER, YDEX, T, MGNT**:\n",
    "\n",
    "$$\\text{C} = \\begin{pmatrix} 1 & 0.78 & 0.8 & 0.45 \\\\ 0.78 & 1 & 0.75 & 0.9 \\\\ 0.8 & 0.75 & 1 & 0.85 \\\\ 0.45 & 0.9 & 0.85 & 1 \\end{pmatrix}$$\n",
    "\n",
    "Unfortunately, this correlation matrix is not positive-semidefinite.\n",
    "\n",
    "On the seminar you faced with two algorithms, based on **hypersphere** and **spectral** decompositions, providing the way on how to adjust a correlation matrix to make it positive-semidefinite. Each of these algorithms have their own pros and cons. Your task is to combine these approaches to construct the new and the best one."
   ]
  },
  {
   "cell_type": "markdown",
   "metadata": {},
   "source": [
    "Implement the following algorithm:\n",
    "\n",
    "1. Apply a **spectral** decomposition algorithm, that is construct a symmetrix positive-definite matrix $\\widetilde{\\text{C}} = \\text{B} \\cdot \\text{B}^T. $\n",
    "\n",
    "2. Apply Cholesky decomposition to matrix $\\widetilde{\\text{C}} = \\text{L} \\cdot \\text{L}^{T}$. \n",
    "\n",
    "3. Use matrix $\\text{L}$ as an initial guess for the **hyphersphere** decomposition $\\widetilde{\\text{C}} = \\text{B}' \\cdot \\text{B}'^T$ with reduced number of $\\frac{n(n-1)}{2}$ angles, constructed with an optimization procedure."
   ]
  },
  {
   "cell_type": "markdown",
   "metadata": {},
   "source": [
    "Your answer should contatin the resulting matrix $\\widetilde{\\text{C}}$ and the $L_2$ norm between it and the original one. Does this combo-algorithm performs better than each of the algorithms separately?"
   ]
  },
  {
   "cell_type": "code",
   "execution_count": 1,
   "metadata": {},
   "outputs": [],
   "source": [
    "import numpy as np\n",
    "import copy\n",
    "import scipy\n",
    "from scipy.optimize import minimize\n",
    "from scipy.stats import norm\n",
    "import matplotlib.pyplot as plt"
   ]
  },
  {
   "cell_type": "code",
   "execution_count": 2,
   "metadata": {},
   "outputs": [],
   "source": [
    "def B(theta: np.ndarray):\n",
    "    cosine_B = np.cos(theta)\n",
    "    cosine_B_shifted = np.c_[cosine_B, np.ones(cosine_B.shape[0])]\n",
    "    sin_B = np.sin(theta)\n",
    "    sin_B_shifted = np.c_[np.ones(sin_B.shape[0]), sin_B]\n",
    "    sin_B_shifted_cumprod = np.cumprod(sin_B_shifted, axis=-1)\n",
    "    return cosine_B_shifted * sin_B_shifted_cumprod\n",
    "\n",
    "\n",
    "def B_(theta: np.ndarray):\n",
    "    return np.tril(B(theta))\n",
    "\n",
    "\n",
    "def reshape_theta_to_appropriate_size(theta: np.ndarray, n: int):\n",
    "    theta_size = theta.shape[0]\n",
    "    rows_dim = int(n)\n",
    "    cols_dim = int(theta_size / rows_dim)\n",
    "    return theta.reshape(rows_dim, cols_dim)\n",
    "\n",
    "\n",
    "def l2_norm(theta: np.ndarray, C: np.ndarray, combo: bool = True):\n",
    "    theta = reshape_theta_to_appropriate_size(theta=theta, n=C.shape[0])\n",
    "    B_new = B(theta)\n",
    "    if combo:\n",
    "        B_new = B_(theta)\n",
    "    C_approx = B_new @ B_new.T\n",
    "    return np.linalg.norm(C_approx - C, ord='fro')\n",
    "\n",
    "\n",
    "def truncate_negative_eigen_values(L: np.ndarray):\n",
    "    L_ = copy.deepcopy(L)\n",
    "    L_[np.diag_indices_from(L_)] = np.maximum(np.diag(L_), 0)\n",
    "    return L_\n",
    "\n",
    "\n",
    "def scaling_matrix(Q: np.ndarray, L_: np.ndarray):\n",
    "    return np.diag(1 / np.sum(Q * Q * np.diag(L_), axis=1))\n",
    "\n",
    "\n",
    "def get_correlation_matrix_for_spectral(Q: np.ndarray, T: np.ndarray, L_: np.ndarray):\n",
    "    B = np.sqrt(T) @ Q @ np.sqrt(np.abs(L_))\n",
    "    temp = B @ B.T\n",
    "    for i in range(len(temp)):\n",
    "        temp[i][i] = 1.0\n",
    "    return temp"
   ]
  },
  {
   "cell_type": "code",
   "execution_count": 3,
   "metadata": {},
   "outputs": [],
   "source": [
    "C = np.array([[1, 0.78, 0.8, 0.45],\n",
    "             [0.78, 1, 0.75, 0.9],\n",
    "             [0.8, 0.75, 1, 0.85],\n",
    "             [0.45, 0.9, 0.85, 1]])"
   ]
  },
  {
   "cell_type": "code",
   "execution_count": 4,
   "metadata": {},
   "outputs": [
    {
     "name": "stdout",
     "output_type": "stream",
     "text": [
      "L2 norm mimum: \n",
      " 0.10085568871109382 \n",
      "\n"
     ]
    }
   ],
   "source": [
    "L, Q = scipy.linalg.schur(C)\n",
    "\n",
    "L_ = truncate_negative_eigen_values(L)\n",
    "T = scaling_matrix(Q, L_)\n",
    "C_approx_spec_decomp = get_correlation_matrix_for_spectral(Q, T, L_)\n",
    "print(\"L2 norm mimum: \\n {} \\n\".format(\n",
    "    np.linalg.norm(C_approx_spec_decomp - C, ord='fro')))"
   ]
  },
  {
   "cell_type": "code",
   "execution_count": 5,
   "metadata": {},
   "outputs": [
    {
     "name": "stdout",
     "output_type": "stream",
     "text": [
      "Initial symmetric matrix C: \n",
      " [[1.   0.78 0.8  0.45]\n",
      " [0.78 1.   0.75 0.9 ]\n",
      " [0.8  0.75 1.   0.85]\n",
      " [0.45 0.9  0.85 1.  ]] \n",
      "\n",
      "Positive-semidefinite matrix constructed via hyphersphere decomposition with optimization: \n",
      " [[1.         0.74884293 0.77233863 0.46075865]\n",
      " [0.74884293 1.         0.7541838  0.85715726]\n",
      " [0.77233863 0.7541838  1.         0.8128346 ]\n",
      " [0.46075865 0.85715726 0.8128346  1.        ]] \n",
      "\n"
     ]
    }
   ],
   "source": [
    "print(\"Initial symmetric matrix C: \\n {} \\n\".format(C))\n",
    "print(\"Positive-semidefinite matrix constructed via hyphersphere decomposition with optimization: \\n {} \\n\".format(C_approx_spec_decomp))"
   ]
  },
  {
   "cell_type": "markdown",
   "metadata": {},
   "source": [
    "### Combo"
   ]
  },
  {
   "cell_type": "code",
   "execution_count": 6,
   "metadata": {},
   "outputs": [],
   "source": [
    "L_cholesky = np.linalg.cholesky(C_approx_spec_decomp)\n",
    "theta = L_cholesky[:, :-1]\n",
    "theta = theta.reshape(-1)\n",
    "res = minimize(fun=l2_norm, x0=theta, args=(C, True), method=\"BFGS\")"
   ]
  },
  {
   "cell_type": "code",
   "execution_count": 7,
   "metadata": {},
   "outputs": [
    {
     "name": "stdout",
     "output_type": "stream",
     "text": [
      "Optimal θ_opt: \n",
      " [-9.22312899e-07  0.00000000e+00  0.00000000e+00  7.13633313e-01\n",
      "  3.13939661e-06  0.00000000e+00  6.77080934e-01  1.10441531e+00\n",
      "  1.57195489e-06  1.07266071e+00  4.91697066e-01  1.41982964e-06] \n",
      "\n",
      "L2 norm mimum at given θ_opt: \n",
      " 0.09050742854294337 \n",
      "\n"
     ]
    }
   ],
   "source": [
    "print(\"Optimal θ_opt: \\n {} \\n\".format(res.x))\n",
    "print(\"L2 norm mimum at given θ_opt: \\n {} \\n\".format(res.fun))"
   ]
  },
  {
   "cell_type": "code",
   "execution_count": 8,
   "metadata": {},
   "outputs": [
    {
     "name": "stdout",
     "output_type": "stream",
     "text": [
      "Initial symmetric matrix C: \n",
      " [[1.   0.78 0.8  0.45]\n",
      " [0.78 1.   0.75 0.9 ]\n",
      " [0.8  0.75 1.   0.85]\n",
      " [0.45 0.9  0.85 1.  ]] \n",
      "\n",
      "Positive-semidefinite matrix constructed via hyphersphere decomposition with optimization and Shura: \n",
      " [[1.         0.75598796 0.77940463 0.47778784]\n",
      " [0.75598796 1.         0.77363145 0.86811697]\n",
      " [0.77940463 0.77363145 1.         0.822652  ]\n",
      " [0.47778784 0.86811697 0.822652   1.        ]] \n",
      "\n"
     ]
    }
   ],
   "source": [
    "theta_opt = res.x\n",
    "theta_opt_reshaped = reshape_theta_to_appropriate_size(theta=theta_opt, n=4)\n",
    "C_approx_opt = B(theta_opt_reshaped) @ B(theta_opt_reshaped).T\n",
    "print(\"Initial symmetric matrix C: \\n {} \\n\".format(C))\n",
    "print(\n",
    "    \"Positive-semidefinite matrix constructed via hyphersphere decomposition with optimization and Shura: \\n {} \\n\".format(\n",
    "        C_approx_opt)\n",
    ")"
   ]
  },
  {
   "cell_type": "markdown",
   "metadata": {},
   "source": [
    "### Hyphersphere"
   ]
  },
  {
   "cell_type": "code",
   "execution_count": 9,
   "metadata": {},
   "outputs": [],
   "source": [
    "theta = np.random.rand(12)\n",
    "res = minimize(fun=l2_norm, x0=theta, args=(C, False), method=\"BFGS\")"
   ]
  },
  {
   "cell_type": "code",
   "execution_count": 10,
   "metadata": {},
   "outputs": [
    {
     "name": "stdout",
     "output_type": "stream",
     "text": [
      "Optimal θ_opt: \n",
      " [ 0.0844732   1.69176228  1.05293024  0.65539335 -0.61860693  1.26527376\n",
      "  0.70182988  0.72122083  0.19688539  1.04648008  0.40377528 -0.98949649] \n",
      "\n",
      "L2 norm mimum at given θ_opt: \n",
      " 0.0905074285403229 \n",
      "\n"
     ]
    }
   ],
   "source": [
    "print(\"Optimal θ_opt: \\n {} \\n\".format(res.x))\n",
    "print(\"L2 norm mimum at given θ_opt: \\n {} \\n\".format(res.fun))"
   ]
  },
  {
   "cell_type": "code",
   "execution_count": 11,
   "metadata": {},
   "outputs": [
    {
     "name": "stdout",
     "output_type": "stream",
     "text": [
      "Initial symmetric matrix C: \n",
      " [[1.   0.78 0.8  0.45]\n",
      " [0.78 1.   0.75 0.9 ]\n",
      " [0.8  0.75 1.   0.85]\n",
      " [0.45 0.9  0.85 1.  ]] \n",
      "\n",
      "Positive-semidefinite matrix constructed via hyphersphere decomposition with optimization: \n",
      " [[1.         0.75598865 0.77940493 0.47778861]\n",
      " [0.75598865 1.         0.77363048 0.86811605]\n",
      " [0.77940493 0.77363048 1.         0.82265219]\n",
      " [0.47778861 0.86811605 0.82265219 1.        ]] \n",
      "\n"
     ]
    }
   ],
   "source": [
    "theta_opt = res.x\n",
    "theta_opt_reshaped = reshape_theta_to_appropriate_size(theta=theta_opt, n=4)\n",
    "C_approx_opt = B(theta_opt_reshaped) @ B(theta_opt_reshaped).T\n",
    "print(\"Initial symmetric matrix C: \\n {} \\n\".format(C))\n",
    "print(\"Positive-semidefinite matrix constructed via hyphersphere decomposition with optimization: \\n {} \\n\".format(C_approx_opt))"
   ]
  },
  {
   "cell_type": "markdown",
   "metadata": {},
   "source": [
    "### 2. Monte-Carlo integration"
   ]
  },
  {
   "cell_type": "markdown",
   "metadata": {},
   "source": [
    "Having constructed the positive-semidefintie correlation matrix, you need to use it to price a basket option on **SBER** and **MGNT**.\n",
    "\n",
    "The payoff of your option at expiration $T$ is \n",
    "\n",
    "$$\\text{Payoff}(S^{SBER}_T, S^{MGNT}_T) = \\left(\\frac{1}{2} \\left(\\frac{S^{SBER}_T}{S^{SBER}_0} + \\frac{S^{MGNT}_T}{S^{MGNT}_0}\\right) - 100\\% \\right)_{+}.$$\n",
    "\n",
    "Assume that each stock evolves as a geometric Brownian motion:\n",
    "\n",
    "$$S^{SBER}_T = S^{SBER}_0 e^{(r - (\\sigma^{SBER})^2/2)T + \\sigma^{SBER} W^{SBER}_T}, \\quad S^{MGNT}_T = S^{MGNT}_0 e^{(r - (\\sigma^{MGNT})^2/2)T + \\sigma^{MGNT} W^{MGNT}_T},$$\n",
    "\n",
    "where $W^{SBER}_T$ and $W^{MGNT}_T$ are Brownian motions correlated with $\\rho^{SBER, MGNT}$. "
   ]
  },
  {
   "cell_type": "markdown",
   "metadata": {},
   "source": [
    "The price of the option can be expressed as the following expectation\n",
    "\n",
    "$$P = e^{-rT} \\cdot \\mathbb{E}^{\\mathbb{Q}} [\\text{Payoff}(S^{SBER}_T, S^{MGNT}_T)],$$\n",
    "\n",
    "wich can be evaluated using Monte-Carlo algorithm."
   ]
  },
  {
   "cell_type": "markdown",
   "metadata": {},
   "source": [
    "You may assume that risk-free interest rate $r = 21\\%$, the initial stock prices are $S^{SBER}_0 = 230$, $S^{MGNT}_0 = 4300$ and the volatilities are $\\sigma^{SBER}_0 = 30\\%$, $\\sigma^{MGNT}_0 = 40\\%$. The maturity of the option $T$ is equal to on year."
   ]
  },
  {
   "cell_type": "markdown",
   "metadata": {},
   "source": [
    "Your answer should contatin the plot of the price $P$ of the option as a function on number of Monte-Carlo simulations $N$. Does your algorithm converges? What is the speed of the convergence as a function of $N$? "
   ]
  },
  {
   "cell_type": "code",
   "execution_count": 12,
   "metadata": {},
   "outputs": [],
   "source": [
    "def sample_independent_uniform_variates(n_sample: int, size: int = 1, random_seed: int = 42):\n",
    "    np.random.seed(random_seed)\n",
    "    return np.random.rand(n_sample, size)\n",
    "\n",
    "\n",
    "def cholesky_decomposition(x: np.ndarray):\n",
    "    return np.linalg.cholesky(x)\n",
    "\n",
    "\n",
    "def transform_gaussian_to_uniform(gaussian_sample: np.ndarray):\n",
    "    return norm.cdf(gaussian_sample)\n",
    "\n",
    "\n",
    "def transform_uniform_to_gaussian(uniform_sample: np.ndarray):\n",
    "    return norm.ppf(uniform_sample)\n",
    "\n",
    "\n",
    "def transform_to_log_norm(sample: np.ndarray):\n",
    "    T = 1\n",
    "    r = 0.21\n",
    "    S_magn_initial = 4300\n",
    "    S_sber_initial = 230\n",
    "    sigma_magn = 0.3\n",
    "    sigma_sber = 0.4\n",
    "    result = np.zeros_like(sample)\n",
    "    result[:, 0] = np.exp(r - (sigma_magn**2) / 2 + sigma_magn*sample[:, 0])\n",
    "    result[:, 1] = np.exp(r - (sigma_sber**2) / 2 + sigma_sber*sample[:, 1])\n",
    "\n",
    "    return result\n",
    "\n",
    "\n",
    "def gaussian_copula(n_sample: int, corr_matrix: np.ndarray):\n",
    "    size = corr_matrix.shape[0]\n",
    "    sample_of_independent_uniform_variates = sample_independent_uniform_variates(\n",
    "        n_sample=n_sample, size=size)\n",
    "    sample_of_independent_standard_gaussian_variates = transform_uniform_to_gaussian(\n",
    "        uniform_sample=sample_of_independent_uniform_variates)\n",
    "    square_root_matrix = cholesky_decomposition(x=corr_matrix)\n",
    "    sample_of_codependent_standard_gaussian_variates = sample_of_independent_standard_gaussian_variates @ square_root_matrix.T\n",
    "    sample_of_codependent_uniform_variates = transform_gaussian_to_uniform(\n",
    "        gaussian_sample=sample_of_codependent_standard_gaussian_variates\n",
    "    )\n",
    "    return sample_of_codependent_uniform_variates\n",
    "\n",
    "\n",
    "def payoff(sample_of_gaussian_variates_1: np.ndarray, sample_of_gaussian_variates_2: np.ndarray):\n",
    "    return np.mean(\n",
    "        np.maximum(\n",
    "            0.5*(sample_of_gaussian_variates_1 +\n",
    "                 sample_of_gaussian_variates_2) - 1.0,\n",
    "            0.0\n",
    "        )\n",
    "    )\n",
    "\n",
    "\n",
    "def convergence_analysis(sample_of_codependent_gaussian_variates: np.ndarray, true_results: float):\n",
    "    maximum_number_of_iterations = sample_of_codependent_gaussian_variates.shape[0]\n",
    "    results = np.zeros((int(np.log2(maximum_number_of_iterations)), 1))\n",
    "    for i in range(results.shape[0]):\n",
    "        results[i, 0] = np.abs(\n",
    "            np.exp(-0.21)*payoff(\n",
    "                sample_of_gaussian_variates_1=sample_of_codependent_gaussian_variates[:2**i, 0],\n",
    "                sample_of_gaussian_variates_2=sample_of_codependent_gaussian_variates[:2**i, 1]\n",
    "            ) - true_results\n",
    "        )\n",
    "    return results"
   ]
  },
  {
   "cell_type": "code",
   "execution_count": 13,
   "metadata": {},
   "outputs": [],
   "source": [
    "corr_matrix = C_approx_opt[0::3, 0::3]\n",
    "sample_of_codependent_uniform_variates = gaussian_copula(\n",
    "    n_sample=2**19,\n",
    "    corr_matrix=corr_matrix\n",
    ")\n",
    "sample_of_transformed_back_codependent_gaussian_variates = transform_to_log_norm(\n",
    "    transform_uniform_to_gaussian(\n",
    "        uniform_sample=sample_of_codependent_uniform_variates\n",
    "    )\n",
    ")\n",
    "\n",
    "T = 1\n",
    "r = 0.21\n",
    "sigma_magn = 0.3\n",
    "sigma_sber = 0.4\n",
    "\n",
    "convergence_result = convergence_analysis(\n",
    "    sample_of_codependent_gaussian_variates=sample_of_transformed_back_codependent_gaussian_variates,\n",
    "    # true_results=0.5*(np.exp(r - (sigma_magn**2)/2) +\n",
    "    #                   np.exp(r - (sigma_sber**2)/2)\n",
    "    #                   )\n",
    "    true_results=0\n",
    ")"
   ]
  },
  {
   "cell_type": "code",
   "execution_count": 14,
   "metadata": {},
   "outputs": [
    {
     "name": "stderr",
     "output_type": "stream",
     "text": [
      "<>:10: SyntaxWarning: invalid escape sequence '\\l'\n",
      "<>:10: SyntaxWarning: invalid escape sequence '\\l'\n",
      "/var/folders/rz/q38y2crj2378lqt648zw0cbr0000gn/T/ipykernel_13483/3052230965.py:10: SyntaxWarning: invalid escape sequence '\\l'\n",
      "  plt.xlabel(\"$\\log_2(N)$, $N$ - number of samples\")\n",
      "/var/folders/rz/q38y2crj2378lqt648zw0cbr0000gn/T/ipykernel_13483/3052230965.py:11: UserWarning: No artists with labels found to put in legend.  Note that artists whose label start with an underscore are ignored when legend() is called with no argument.\n",
      "  plt.legend()\n"
     ]
    },
    {
     "data": {
      "image/png": "[encoded data removed]",
      "text/plain": [
       "<Figure size 640x480 with 1 Axes>"
      ]
     },
     "metadata": {},
     "output_type": "display_data"
    }
   ],
   "source": [
    "log_2_iteratinos = np.linspace(1, 19, 19)\n",
    "one_over_sqrt_N = 1 / np.sqrt([2**i for i in range(log_2_iteratinos.shape[0])])\n",
    "one_over_sqrt_N\n",
    "plt.plot(\n",
    "    log_2_iteratinos,\n",
    "    convergence_result[:, 0],\n",
    "    marker=\"x\"\n",
    ")\n",
    "plt.title('Price')\n",
    "plt.xlabel(\"$\\log_2(N)$, $N$ - number of samples\")\n",
    "plt.legend()\n",
    "plt.grid()\n",
    "plt.show()"
   ]
  },
  {
   "cell_type": "markdown",
   "metadata": {},
   "source": [
    "### TODO: посчитать ручками матожидание payoff"
   ]
  },
  {
   "cell_type": "markdown",
   "metadata": {},
   "source": [
    "### 3. Implied volatilities interpolation"
   ]
  },
  {
   "cell_type": "markdown",
   "metadata": {},
   "source": [
    "You are observing the following  implied volatilities for maturity $T=1$: \n",
    "\n",
    "$$K/S_0 = \\{ 26\\%, \\quad 37\\%, \\quad 52\\%, \\quad 70\\%, \\quad 100\\%, \\quad 142\\%, \\quad 195\\% \\}$$\n",
    "$$\\sigma^{IV} = \\{ 42.5\\%, \\quad 37.5\\%, \\quad 32.5\\%, \\quad 28.5\\%, \\quad 25\\%, \\quad 23\\%, \\quad 22\\% \\}$$\n",
    "\n",
    "Assume that the risk-free interest rate is zero and the spot $S_0 = 1$."
   ]
  },
  {
   "cell_type": "markdown",
   "metadata": {},
   "source": [
    "Provide an interpolation algorithm (cubic splines, rational cubic splines or whatever you want) for the given implied volatilities. You **can not** use any algorithms built into scipy, numpy, or any other python module - use your one realization! Is your interpolation free of monotonicity ($C'(K) > 0$) and butterfly ($C''(K) > 0$) arbitrage? Your answer should contain a plot with interpolated implied volatilities as well as a numerical check that your interpolation does not violate no-arbitrage conditions described above. "
   ]
  },
  {
   "cell_type": "code",
   "execution_count": null,
   "metadata": {},
   "outputs": [],
   "source": [
    "log_moneyness = np.array([26, 37, 52, 70, 100, 142, 195]) / 100.\n",
    "sigma_iv = np.array([42.5, 37.5, 32.5, 28.5, 25, 23, 22]) / 100."
   ]
  },
  {
   "cell_type": "markdown",
   "metadata": {},
   "source": [
    "### 4. Pricing options within finite-differencing framework"
   ]
  },
  {
   "cell_type": "markdown",
   "metadata": {},
   "source": [
    "Your task is to price European/American options within finite-differencing approach. You may assume you are given an implied volatilities (together with your interpolation method) from the previous task. "
   ]
  },
  {
   "cell_type": "markdown",
   "metadata": {},
   "source": [
    "1. Price within a finite-differencing method a European put option with strike $K=70\\%$ and a European call option with strike $K = 130\\%$. Use any numerical scheme you wish. Compare your results with the ones obtained analytically from Black-Scholes formula. How your results differ from the analytic ones?\n",
    "\n",
    "2. Price within a finite-differencing method an American put option with strike $K=70\\%$. Please note that an American option can be exercised at any time before the maturity if its intrinsic value is greater than calculated option price at that step. Use any numerical scheme you wish. Please describe the way how option's \"American\" property affects your finite-differencing algorithm when you are stepping in time. How its price differs from the price of European option with the same strike? "
   ]
  },
  {
   "cell_type": "markdown",
   "metadata": {},
   "source": [
    "You may use your own implementation of finite differencing algorithm or the one presented on the seminar."
   ]
  },
  {
   "cell_type": "markdown",
   "metadata": {},
   "source": [
    "### 1."
   ]
  },
  {
   "cell_type": "code",
   "execution_count": 17,
   "metadata": {},
   "outputs": [],
   "source": [
    "import numpy as np\n",
    "from scipy.stats import norm\n",
    "from scipy.sparse.linalg import splu, spsolve\n",
    "from scipy.sparse import csc_matrix\n",
    "import matplotlib.pyplot as plt\n",
    "from pde_solver import solve_1d_pde, FiniteDifferencingScheme\n",
    "from pricer import price, OptionType\n",
    "from typing import Union"
   ]
  },
  {
   "cell_type": "code",
   "execution_count": 18,
   "metadata": {},
   "outputs": [],
   "source": [
    "def black(log_moneyness: Union[float, np.ndarray], forward: float, vol: Union[np.ndarray, float],\n",
    "          df: float = 1, T: float = 1, theta: float = 1) -> Union[float, np.ndarray]:\n",
    "    total_vol = vol * np.sqrt(T)\n",
    "    d_1 = - theta * (log_moneyness / total_vol - total_vol / 2)\n",
    "    d_2 = - theta * (log_moneyness / total_vol + total_vol / 2)\n",
    "    return df * theta * forward * (norm.cdf(d_1) - np.exp(log_moneyness) * norm.cdf(d_2))"
   ]
  },
  {
   "cell_type": "code",
   "execution_count": 25,
   "metadata": {},
   "outputs": [],
   "source": [
    "number_of_time_steps = 31\n",
    "finite_differencing_spacial_levels = 51\n",
    "number_of_std_deviations = 4\n",
    "scheme_type = FiniteDifferencingScheme.Implicit\n",
    "number_of_spatial_levels, number_of_time_steps = 201, 201\n",
    "\n",
    "\n",
    "def pde_coefficients(_): return {\n",
    "    \"U\": 0, \"U_t\": 1., \"U_x\": 0, \"U_xx\": 0.5 * sigma ** 2}"
   ]
  },
  {
   "cell_type": "code",
   "execution_count": 29,
   "metadata": {},
   "outputs": [
    {
     "name": "stdout",
     "output_type": "stream",
     "text": [
      "[ 70. 130.]\n"
     ]
    }
   ],
   "source": [
    "spot = 100.\n",
    "r, sigma = 0.12, 0.2\n",
    "# maturities = np.array([1/12, 3/12, 6/12, 1])\n",
    "maturities = np.linspace(1/12, 1, 10)\n",
    "strikes = np.linspace(spot * 0.7, spot * 1.3, 2)\n",
    "print(strikes)\n",
    "trade_values_calls = np.zeros((maturities.shape[0], strikes.shape[0]))\n",
    "trade_values_puts = np.zeros((maturities.shape[0], strikes.shape[0]))\n",
    "trade_values_calls_analytic = np.zeros((maturities.shape[0], strikes.shape[0]))\n",
    "trade_values_puts_analytic = np.zeros((maturities.shape[0], strikes.shape[0]))\n",
    "\n",
    "for i, maturity in enumerate(maturities):\n",
    "    for j, strike in enumerate(strikes):\n",
    "        trade_values_calls[i][j] = price(maturity=maturity, strike=strike, option_type=OptionType.CALL,\n",
    "                                         number_of_spatial_levels=number_of_spatial_levels, number_of_time_steps=number_of_time_steps,\n",
    "                                         pde_coefficients=pde_coefficients, scheme=scheme_type, spot=spot,\n",
    "                                         volatility=sigma, interest_rate=r, number_of_std_deviations=number_of_std_deviations)\n",
    "\n",
    "        trade_values_calls_analytic[i][j] = black(log_moneyness=np.log(strike / (spot * np.exp(r * maturity))),\n",
    "                                                  forward=spot *\n",
    "                                                  np.exp(r * maturity),\n",
    "                                                  vol=sigma,\n",
    "                                                  df=np.exp(-r * maturity),\n",
    "                                                  T=maturity,\n",
    "                                                  theta=1)\n",
    "\n",
    "        trade_values_puts[i][j] = price(maturity=maturity, strike=strike, option_type=OptionType.PUT,\n",
    "                                        number_of_spatial_levels=number_of_spatial_levels, number_of_time_steps=number_of_time_steps,\n",
    "                                        pde_coefficients=pde_coefficients, scheme=scheme_type, spot=spot,\n",
    "                                        volatility=sigma, interest_rate=r, number_of_std_deviations=number_of_std_deviations)\n",
    "\n",
    "        trade_values_puts_analytic[i][j] = black(log_moneyness=np.log(strike / (spot * np.exp(r * maturity))),\n",
    "                                                 forward=spot *\n",
    "                                                 np.exp(r * maturity),\n",
    "                                                 vol=sigma,\n",
    "                                                 df=np.exp(-r * maturity),\n",
    "                                                 T=maturity,\n",
    "                                                 theta=-1)"
   ]
  },
  {
   "cell_type": "code",
   "execution_count": 36,
   "metadata": {},
   "outputs": [
    {
     "data": {
      "image/png": "[encoded data removed]",
      "text/plain": [
       "<Figure size 1200x500 with 2 Axes>"
      ]
     },
     "metadata": {},
     "output_type": "display_data"
    }
   ],
   "source": [
    "fig, ax = plt.subplots(1, 2, figsize=(12, 5))\n",
    "for i, _ in enumerate(strikes):\n",
    "    ax[0].plot(maturities, trade_values_calls[:, i],\n",
    "               label=\"Finite Diff., $K$={}\".format(_), linestyle=\"-\")\n",
    "    ax[0].plot(maturities, trade_values_calls_analytic[:, i],\n",
    "               label=\"Analytic, $K$={}\".format(_), linestyle=\"--\", marker=\"x\")\n",
    "\n",
    "    ax[1].plot(maturities, trade_values_puts[:, i],\n",
    "               label=\"Finite Diff., $K$={}\".format(_), linestyle=\"-\")\n",
    "    ax[1].plot(maturities, trade_values_puts_analytic[:, i],\n",
    "               label=\"Analytic, $K$={}\".format(_), linestyle=\"--\", marker=\"x\")\n",
    "\n",
    "ax[0].set_title(\n",
    "    '$PV^{call}$ (Analytic vs Finite Diff.)\\n' + 'for various $T$ and $K$')\n",
    "ax[1].set_title('$PV^{put}$ (Analytic vs Finite Diff.)\\n' +\n",
    "                'for various $T$ and $K$')\n",
    "ax[0].grid(), ax[1].grid()\n",
    "ax[0].legend(), ax[1].legend()\n",
    "plt.show()"
   ]
  },
  {
   "cell_type": "code",
   "execution_count": null,
   "metadata": {},
   "outputs": [],
   "source": []
  }
 ],
 "metadata": {
  "kernelspec": {
   "display_name": ".venv",
   "language": "python",
   "name": "python3"
  },
  "language_info": {
   "codemirror_mode": {
    "name": "ipython",
    "version": 3
   },
   "file_extension": ".py",
   "mimetype": "text/x-python",
   "name": "python",
   "nbconvert_exporter": "python",
   "pygments_lexer": "ipython3",
   "version": "3.12.3"
  }
 },
 "nbformat": 4,
 "nbformat_minor": 2
}
