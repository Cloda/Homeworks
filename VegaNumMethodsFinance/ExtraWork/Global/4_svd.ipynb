{
 "cells": [
  {
   "cell_type": "code",
   "execution_count": 26,
   "metadata": {},
   "outputs": [],
   "source": [
    "import numpy as np\n",
    "import matplotlib.pyplot as plt\n",
    "\n",
    "plt.style.use('ggplot')\n",
    "plt.rc('figure', figsize=(15, 6))"
   ]
  },
  {
   "cell_type": "markdown",
   "metadata": {},
   "source": [
    "1. A --- с большой невязкой"
   ]
  },
  {
   "cell_type": "code",
   "execution_count": 27,
   "metadata": {},
   "outputs": [
    {
     "name": "stdout",
     "output_type": "stream",
     "text": [
      "[[ 1. -1. -1. -1. -1.]\n",
      " [ 0.  1. -1. -1. -1.]\n",
      " [ 0.  0.  1. -1. -1.]\n",
      " [ 0.  0.  0.  1. -1.]\n",
      " [ 0.  0.  0.  0.  1.]]\n",
      "Ошибка: 0.0, невязка: 0.0\n"
     ]
    }
   ],
   "source": [
    "n = 5\n",
    "A = np.zeros(shape = (n, n))\n",
    "for i in range(n):\n",
    "    A[i, i] = 1\n",
    "    for j in range(i + 1, n):\n",
    "        A[i, j] = -1\n",
    "\n",
    "print(A)\n",
    "x = np.ones(n)\n",
    "b = np.dot(A, x)\n",
    "\n",
    "x_pred = np.linalg.solve(A, b)\n",
    "err = np.sqrt(((x - x_pred)**2).sum())\n",
    "b_pred = A @ x_pred\n",
    "resid = np.sqrt(((b - b_pred)**2).sum())\n",
    "print(f\"Ошибка: {err}, невязка: {resid}\")"
   ]
  },
  {
   "cell_type": "code",
   "execution_count": 28,
   "metadata": {},
   "outputs": [
    {
     "data": {
      "text/plain": [
       "[np.float64(0.0),\n",
       " np.float64(0.0),\n",
       " np.float64(0.0),\n",
       " np.float64(0.0),\n",
       " np.float64(0.0),\n",
       " np.float64(0.0),\n",
       " np.float64(0.0),\n",
       " np.float64(0.0),\n",
       " np.float64(0.0),\n",
       " np.float64(0.0)]"
      ]
     },
     "execution_count": 28,
     "metadata": {},
     "output_type": "execute_result"
    }
   ],
   "source": [
    "N = 100\n",
    "errors = []\n",
    "\n",
    "for n in range(5, 1000, 100):\n",
    "    A = np.zeros(shape = (n, n))\n",
    "    for i in range(n):\n",
    "        A[i, i] = 1\n",
    "        for j in range(i + 1, n):\n",
    "            A[i, j] = -1\n",
    "    x = np.ones(n)\n",
    "    b = np.dot(A, x)\n",
    "    x_pred = np.linalg.solve(A, b)\n",
    "    errors.append(np.sqrt(((x - x_pred)**2).sum()))\n",
    "\n",
    "errors"
   ]
  },
  {
   "cell_type": "markdown",
   "metadata": {},
   "source": [
    "2. Добавим ошибку в последнюю координату b"
   ]
  },
  {
   "cell_type": "code",
   "execution_count": 29,
   "metadata": {},
   "outputs": [
    {
     "name": "stderr",
     "output_type": "stream",
     "text": [
      "/var/folders/rz/q38y2crj2378lqt648zw0cbr0000gn/T/ipykernel_23694/3362105307.py:22: UserWarning: No artists with labels found to put in legend.  Note that artists whose label start with an underscore are ignored when legend() is called with no argument.\n",
      "  plt.legend()\n"
     ]
    },
    {
     "data": {
      "image/png": "[encoded data removed]",
      "text/plain": [
       "<Figure size 1000x500 with 1 Axes>"
      ]
     },
     "metadata": {},
     "output_type": "display_data"
    }
   ],
   "source": [
    "errors = []\n",
    "\n",
    "for n in range(5, 100, 5):\n",
    "    A = np.zeros(shape = (n, n))\n",
    "    for i in range(n):\n",
    "        A[i, i] = 1\n",
    "        for j in range(i + 1, n):\n",
    "            A[i, j] = -1\n",
    "    x = np.ones(n)\n",
    "    b = np.dot(A, x)\n",
    "    eps = np.zeros_like(b)\n",
    "    eps[-1] = 1e-14\n",
    "    x_pred = np.linalg.solve(A, b+eps)\n",
    "    errors.append(np.sqrt(((x - x_pred)**2).sum()))\n",
    "\n",
    "    \n",
    "plt.figure(figsize=(10, 5))\n",
    "plt.plot(range(5, 100, 5), errors, linewidth=2)\n",
    "\n",
    "plt.xlabel(\"n\")\n",
    "plt.ylabel(\"error\")\n",
    "plt.legend()\n",
    "plt.grid(True)\n",
    "plt.show()"
   ]
  },
  {
   "cell_type": "markdown",
   "metadata": {},
   "source": [
    "3. Усечем SVD-разложение с помощью зануления последнего синуглярного значения\n",
    "$$\n",
    "A = U D V^T \\Rightarrow \\tilde A = U \\tilde D V^T\n",
    "$$\n",
    "$$\n",
    "A x = b, \\quad \\operatorname{rk} A = n, \\quad \\sigma _1 \\geq \\sigma _2 \\geq \\ldots \\geq \\sigma _n := 0 \n",
    "$$\n",
    "$$\n",
    "x = V_{n-1} D^{-1}_{n-1} U^T_{n-1} b\n",
    "$$"
   ]
  },
  {
   "cell_type": "code",
   "execution_count": 30,
   "metadata": {},
   "outputs": [
    {
     "name": "stdout",
     "output_type": "stream",
     "text": [
      "[[ 1. -1. -1. ... -1. -1. -1.]\n",
      " [ 0.  1. -1. ... -1. -1. -1.]\n",
      " [ 0.  0.  1. ... -1. -1. -1.]\n",
      " ...\n",
      " [ 0.  0.  0. ...  1. -1. -1.]\n",
      " [ 0.  0.  0. ...  0.  1. -1.]\n",
      " [ 0.  0.  0. ...  0.  0.  1.]]\n",
      "6.8833827526759706e-15\n"
     ]
    }
   ],
   "source": [
    "n = 100\n",
    "A = np.zeros(shape = (n, n))\n",
    "for i in range(n):\n",
    "    A[i, i] = 1\n",
    "    for j in range(i + 1, n):\n",
    "        A[i, j] = -1\n",
    "print(A)\n",
    "x = np.ones(n)\n",
    "b = A @ x\n",
    "eps = np.zeros_like(b)\n",
    "eps[-1] = 1e-14\n",
    "b = b + eps\n",
    "\n",
    "U, D, V_t = np.linalg.svd(A)\n",
    "print((A - U @ np.diag(D) @ V_t).max())"
   ]
  },
  {
   "cell_type": "markdown",
   "metadata": {},
   "source": [
    "Нужно решить "
   ]
  },
  {
   "cell_type": "code",
   "execution_count": 31,
   "metadata": {},
   "outputs": [
    {
     "name": "stdout",
     "output_type": "stream",
     "text": [
      "(100, 99) (99, 99) (99, 100) (100,)\n",
      "Ошибка: 1.7320508075688505, невязка: 9.591334619606372e-13\n",
      "[-0.5         0.25        0.625       0.8125      0.90625     0.953125\n",
      "  0.9765625   0.98828125  0.99414062  0.99707031  0.99853516  0.99926758\n",
      "  0.99963379  0.99981689  0.99990845  0.99995422  0.99997711  0.99998856\n",
      "  0.99999428  0.99999714  0.99999857  0.99999928  0.99999964  0.99999982\n",
      "  0.99999991  0.99999996  0.99999998  0.99999999  0.99999999  1.\n",
      "  1.          1.          1.          1.          1.          1.\n",
      "  1.          1.          1.          1.          1.          1.\n",
      "  1.          1.          1.          1.          1.          1.\n",
      "  1.          1.          1.          1.          1.          1.\n",
      "  1.          1.          1.          1.          1.          1.\n",
      "  1.          1.          1.          1.          1.          1.\n",
      "  1.          1.          1.          1.          1.          1.\n",
      "  1.          1.          1.          1.          1.          1.\n",
      "  1.          1.          1.          1.          1.          1.\n",
      "  1.          1.          1.          1.          1.          1.\n",
      "  1.          1.          1.          1.          1.          1.\n",
      "  1.          1.          1.          1.        ]\n"
     ]
    }
   ],
   "source": [
    "U_trunc = U[:, :-1]\n",
    "D_trunc = D[:-1].flatten()\n",
    "V_trunc = np.transpose(V_t)[:, :-1]\n",
    "print(V_trunc.shape, np.diag(D_trunc ** -1).shape, np.transpose(U_trunc).shape, b.shape)\n",
    "\n",
    "x_pred = V_trunc @ np.diag( 1 / D_trunc) @ np.transpose(U_trunc) @ b\n",
    "\n",
    "err = np.sqrt(((x - x_pred)**2).sum())\n",
    "\n",
    "b_pred = A @ x_pred\n",
    "resid = np.sqrt(((b - b_pred)**2).sum())\n",
    "print(f\"Ошибка: {err}, невязка: {resid}\")\n",
    "print(x_pred)\n"
   ]
  },
  {
   "cell_type": "code",
   "execution_count": 32,
   "metadata": {},
   "outputs": [
    {
     "name": "stdout",
     "output_type": "stream",
     "text": [
      "Ошибка: 3656747556870141.5, невязка: 5.346044700326185e-13\n",
      "[3.16683628e+15 1.58341814e+15 7.91709070e+14 3.95854535e+14\n",
      " 1.97927267e+14 9.89636337e+13 4.94818169e+13 2.47409084e+13\n",
      " 1.23704542e+13 6.18522711e+12 3.09261355e+12 1.54630678e+12\n",
      " 7.73153389e+11 3.86576694e+11 1.93288347e+11 9.66441736e+10\n",
      " 4.83220868e+10 2.41610434e+10 1.20805217e+10 6.04026085e+09\n",
      " 3.02013042e+09 1.51006521e+09 7.55032607e+08 3.77516304e+08\n",
      " 1.88758152e+08 9.43790768e+07 4.71895389e+07 2.35947699e+07\n",
      " 1.17973855e+07 5.89869323e+06 2.94934712e+06 1.47467406e+06\n",
      " 7.37337529e+05 3.68669265e+05 1.84335132e+05 9.21680662e+04\n",
      " 4.60845331e+04 2.30427665e+04 1.15218833e+04 5.76144164e+03\n",
      " 2.88122082e+03 1.44111041e+03 7.21055204e+02 3.61027602e+02\n",
      " 1.81013801e+02 9.10069005e+01 4.60034503e+01 2.35017251e+01\n",
      " 1.22508626e+01 6.62543128e+00 3.81271564e+00 2.40635782e+00\n",
      " 1.70317891e+00 1.35158946e+00 1.17579473e+00 1.08789736e+00\n",
      " 1.04394868e+00 1.02197434e+00 1.01098717e+00 1.00549359e+00\n",
      " 1.00274679e+00 1.00137340e+00 1.00068670e+00 1.00034335e+00\n",
      " 1.00017167e+00 1.00008584e+00 1.00004292e+00 1.00002146e+00\n",
      " 1.00001073e+00 1.00000536e+00 1.00000268e+00 1.00000134e+00\n",
      " 1.00000067e+00 1.00000034e+00 1.00000017e+00 1.00000008e+00\n",
      " 1.00000004e+00 1.00000002e+00 1.00000001e+00 1.00000001e+00\n",
      " 1.00000000e+00 1.00000000e+00 1.00000000e+00 1.00000000e+00\n",
      " 1.00000000e+00 1.00000000e+00 1.00000000e+00 1.00000000e+00\n",
      " 1.00000000e+00 1.00000000e+00 1.00000000e+00 1.00000000e+00\n",
      " 1.00000000e+00 1.00000000e+00 1.00000000e+00 1.00000000e+00\n",
      " 1.00000000e+00 1.00000000e+00 1.00000000e+00 1.00000000e+00]\n"
     ]
    }
   ],
   "source": [
    "n = 100\n",
    "A = np.zeros(shape = (n, n))\n",
    "for i in range(n):\n",
    "    A[i, i] = 1\n",
    "    for j in range(i + 1, n):\n",
    "        A[i, j] = -1\n",
    "\n",
    "x = np.ones(n)\n",
    "b = np.dot(A, x)\n",
    "\n",
    "eps = np.zeros_like(b)\n",
    "eps[-1] = 1e-14\n",
    "b = b + eps\n",
    "\n",
    "x_pred = np.linalg.solve(A, b)\n",
    "err = np.sqrt(((x - x_pred)**2).sum())\n",
    "b_pred = A @ x_pred\n",
    "resid = np.sqrt(((b - b_pred)**2).sum())\n",
    "\n",
    "print(f\"Ошибка: {err}, невязка: {resid}\")\n",
    "print(x_pred)"
   ]
  }
 ],
 "metadata": {
  "kernelspec": {
   "display_name": ".venv",
   "language": "python",
   "name": "python3"
  },
  "language_info": {
   "codemirror_mode": {
    "name": "ipython",
    "version": 3
   },
   "file_extension": ".py",
   "mimetype": "text/x-python",
   "name": "python",
   "nbconvert_exporter": "python",
   "pygments_lexer": "ipython3",
   "version": "3.12.3"
  }
 },
 "nbformat": 4,
 "nbformat_minor": 2
}
