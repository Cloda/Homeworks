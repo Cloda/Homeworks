{
 "cells": [
  {
   "cell_type": "code",
   "execution_count": 1,
   "metadata": {},
   "outputs": [],
   "source": [
    "import numpy as np \n",
    "import matplotlib.pyplot as plt\n",
    "import seaborn as sns\n",
    "from scipy import integrate\n",
    "\n",
    "sns.set()"
   ]
  },
  {
   "cell_type": "markdown",
   "metadata": {},
   "source": [
    "$$\n",
    "u_t = u_xx, \\\\\n",
    "\\xi ^i = \\sin \\pi i x, \\quad \\xi ^ {i} _{xx} = -\\lambda _i \\xi ^i (x) \\\\\n",
    "{l_i (x)} - \\text{ какие-то функции, например $l_i (x) = \\xi ^i = \\sin \\pi i x$}, \\\\\n",
    "l(x) = \\sum _{i=1}^{i_0} c_i l^i (x) \\\\\n",
    "\\text{Найти $l^i$: } \n",
    "(u^0(x) + l(x), \\xi ^i) = 0\n",
    "$$"
   ]
  },
  {
   "cell_type": "markdown",
   "metadata": {},
   "source": [
    "### Этап первый: прогаем задачу в простом случае"
   ]
  },
  {
   "cell_type": "code",
   "execution_count": 3,
   "metadata": {},
   "outputs": [],
   "source": [
    "def xi(i):\n",
    "    def xi_i(x):\n",
    "        return np.sin(np.pi * x * i)\n",
    "    return xi_i\n",
    "\n",
    "def l(i):\n",
    "    def l_i(x):\n",
    "        if x < 0.5:\n",
    "            return np.sin(np.pi * x * i)\n",
    "        else:\n",
    "            return 0\n",
    "    return l_i\n",
    "\n",
    "def u0(x):\n",
    "    return np.sin(np.pi * x)\n",
    "\n",
    "def scalar_product(f1, f2):\n",
    "    return integrate.quad(lambda x: f1(x) * f2(x), 0., 1.)[0]"
   ]
  },
  {
   "cell_type": "code",
   "execution_count": 4,
   "metadata": {},
   "outputs": [],
   "source": [
    "N = 1\n",
    "\n",
    "A = np.zeros((N, N))\n",
    "\n",
    "for i in range(N):\n",
    "    for j in range(N):\n",
    "        A[i][j] = scalar_product(xi(i + 1), l(j + 1))"
   ]
  },
  {
   "cell_type": "code",
   "execution_count": 5,
   "metadata": {},
   "outputs": [
    {
     "data": {
      "text/plain": [
       "array([0.5])"
      ]
     },
     "execution_count": 5,
     "metadata": {},
     "output_type": "execute_result"
    }
   ],
   "source": [
    "np.array([scalar_product(u0, xi(i)) for i in range(1, N + 1)])"
   ]
  },
  {
   "cell_type": "code",
   "execution_count": 6,
   "metadata": {},
   "outputs": [
    {
     "data": {
      "text/plain": [
       "array([2.])"
      ]
     },
     "execution_count": 6,
     "metadata": {},
     "output_type": "execute_result"
    }
   ],
   "source": [
    "np.linalg.solve(A, np.array([scalar_product(u0, xi(i)) for i in range(1, N + 1)]))"
   ]
  },
  {
   "cell_type": "markdown",
   "metadata": {},
   "source": [
    "### Этап второй: исследуем поправку в зависимости от объема пространства, где $l_i > 0$"
   ]
  },
  {
   "cell_type": "code",
   "execution_count": 7,
   "metadata": {},
   "outputs": [],
   "source": [
    "N = 2"
   ]
  },
  {
   "cell_type": "code",
   "execution_count": 8,
   "metadata": {},
   "outputs": [],
   "source": [
    "def popravka(l_volume, xi):\n",
    "    def l(i):\n",
    "        def l_i(x):\n",
    "            if x < l_volume:\n",
    "                return np.sin(np.pi * x * i)\n",
    "            else:\n",
    "                return 0\n",
    "        return l_i\n",
    "    return np.linalg.solve(np.array([[scalar_product(xi(i + 1), l(j + 1)) for i in range(N)] for j in range(N)]), \n",
    "                           np.array([scalar_product(u0, xi(i)) for i in range(1, N + 1)]))"
   ]
  },
  {
   "cell_type": "code",
   "execution_count": 9,
   "metadata": {},
   "outputs": [
    {
     "ename": "TypeError",
     "evalue": "popravka() missing 1 required positional argument: 'xi'",
     "output_type": "error",
     "traceback": [
      "\u001b[0;31m---------------------------------------------------------------------------\u001b[0m",
      "\u001b[0;31mTypeError\u001b[0m                                 Traceback (most recent call last)",
      "Cell \u001b[0;32mIn[9], line 2\u001b[0m\n\u001b[1;32m      1\u001b[0m grid \u001b[38;5;241m=\u001b[39m [\u001b[38;5;241m1\u001b[39m \u001b[38;5;241m/\u001b[39m (\u001b[38;5;241m2\u001b[39m \u001b[38;5;241m*\u001b[39m\u001b[38;5;241m*\u001b[39m i) \u001b[38;5;28;01mfor\u001b[39;00m i \u001b[38;5;129;01min\u001b[39;00m \u001b[38;5;28mrange\u001b[39m(\u001b[38;5;241m6\u001b[39m)]\n\u001b[0;32m----> 2\u001b[0m plt\u001b[38;5;241m.\u001b[39mplot(grid, [\u001b[43mpopravka\u001b[49m\u001b[43m(\u001b[49m\u001b[43mg\u001b[49m\u001b[43m)\u001b[49m \u001b[38;5;28;01mfor\u001b[39;00m g \u001b[38;5;129;01min\u001b[39;00m grid])\n\u001b[1;32m      3\u001b[0m \u001b[38;5;66;03m# plt.xscale('log')\u001b[39;00m\n\u001b[1;32m      4\u001b[0m plt\u001b[38;5;241m.\u001b[39myscale(\u001b[38;5;124m'\u001b[39m\u001b[38;5;124mlog\u001b[39m\u001b[38;5;124m'\u001b[39m)\n",
      "\u001b[0;31mTypeError\u001b[0m: popravka() missing 1 required positional argument: 'xi'"
     ]
    }
   ],
   "source": [
    "grid = [1 / (2 ** i) for i in range(6)]\n",
    "plt.plot(grid, [popravka(g) for g in grid])\n",
    "# plt.xscale('log')\n",
    "plt.yscale('log')"
   ]
  },
  {
   "cell_type": "markdown",
   "metadata": {},
   "source": [
    "### Этап 3: меняем базис"
   ]
  },
  {
   "cell_type": "code",
   "execution_count": 98,
   "metadata": {},
   "outputs": [],
   "source": [
    "def xi(i):\n",
    "    def xi_i(x):\n",
    "        return np.sin(np.pi * x * i)\n",
    "    return xi_i\n",
    "\n",
    "def u0(x):\n",
    "    return np.sin(np.pi * x)"
   ]
  },
  {
   "cell_type": "code",
   "execution_count": 107,
   "metadata": {},
   "outputs": [],
   "source": [
    "def popravka(delta, xi, N):\n",
    "    def l(i):\n",
    "        def l_i(x):\n",
    "            if x < delta:\n",
    "                return np.sin(np.pi * x * i / delta) \n",
    "            else:\n",
    "                return 0\n",
    "        return l_i\n",
    "    return np.linalg.solve(np.array([[scalar_product(xi(i + 1), l(j + 1)) for i in range(N)] for j in range(N)]), \n",
    "                           np.array([scalar_product(u0, xi(i)) for i in range(1, N + 1)]))"
   ]
  },
  {
   "cell_type": "code",
   "execution_count": 108,
   "metadata": {},
   "outputs": [
    {
     "data": {
      "text/plain": [
       "array([0., 2.])"
      ]
     },
     "execution_count": 108,
     "metadata": {},
     "output_type": "execute_result"
    }
   ],
   "source": [
    "popravka(0.5, xi, 2)"
   ]
  },
  {
   "cell_type": "code",
   "execution_count": null,
   "metadata": {},
   "outputs": [],
   "source": [
    "scalar_product(xi(1))"
   ]
  }
 ],
 "metadata": {
  "kernelspec": {
   "display_name": "Python 3",
   "language": "python",
   "name": "python3"
  },
  "language_info": {
   "codemirror_mode": {
    "name": "ipython",
    "version": 3
   },
   "file_extension": ".py",
   "mimetype": "text/x-python",
   "name": "python",
   "nbconvert_exporter": "python",
   "pygments_lexer": "ipython3",
   "version": "3.12.3"
  }
 },
 "nbformat": 4,
 "nbformat_minor": 2
}
