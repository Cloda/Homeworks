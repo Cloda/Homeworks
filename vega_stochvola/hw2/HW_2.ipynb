{
 "cells": [
  {
   "cell_type": "markdown",
   "metadata": {},
   "source": [
    "Stochastic Volatilty Models\n",
    "\n",
    "#### Home work 2\n",
    "\n",
    "---"
   ]
  },
  {
   "cell_type": "markdown",
   "metadata": {},
   "source": [
    "The file must be sent to **stoch-vol-23-fall@yandex.ru** with topic \"stoch-vol HW2\". WARNING: topic is important! Inbox will be filtered automatcally based on exact match. Please zip all files into one folder and rename it as \"SurnameName_HW2\" before sending.\n",
    "\n",
    "Deadline: 25th of December, 23:59.\n",
    "\n",
    "If you have any questions feel free to ask in Telegram https://t.me/v_antipov or https://t.me/igortao.\n",
    "\n",
    "Full name:\n",
    "\n",
    "Faculty:"
   ]
  },
  {
   "cell_type": "markdown",
   "metadata": {},
   "source": [
    "---"
   ]
  },
  {
   "cell_type": "markdown",
   "metadata": {},
   "source": [
    "### Problem 1 (40 points)"
   ]
  },
  {
   "cell_type": "markdown",
   "metadata": {},
   "source": [
    "Let $S^{(r)}$ be the underlying process from the CEV model with interest rate $r$, that is satisfying the SDE\n",
    "\n",
    "$$dS^{(r)}_t = r S^{(r)}_t dt + \\sigma (S^{(r)}_t)^{\\beta} dW_t, \\quad S^{(r)}_0 = s > 0.$$\n",
    "\n",
    "Show that under the time-change \n",
    "$$\\tau(t) = \\frac{e^{2r(\\beta - 1)t} - 1}{2r(\\beta - 1)},$$\n",
    "\n",
    "the following relationship holds \n",
    "\n",
    "$$S^{(r)}_t \\stackrel{d}{=} e^{rt} S^{(0)}_{\\tau(t)}.$$"
   ]
  },
  {
   "cell_type": "markdown",
   "metadata": {},
   "source": [
    "*Instructions:*"
   ]
  },
  {
   "cell_type": "markdown",
   "metadata": {},
   "source": [
    "**1**. 🧠 <span style=\"color:blue\">(10 points)</span>  Show that the discounted underlying process process $X_t := e^{-rt} S_t^{(r)}$ satisfies the SDE\n",
    "\n",
    "$$dX_t = \\sigma e^{r(\\beta - 1)t} X_t^{\\beta} dW_t.$$"
   ]
  },
  {
   "cell_type": "markdown",
   "metadata": {},
   "source": [
    "YOUR ANSWER HERE"
   ]
  },
  {
   "cell_type": "markdown",
   "metadata": {},
   "source": [
    "**2**. 🧠 <span style=\"color:blue\">(10 points)</span>  Show that the time-changed zero-rate underlying process process $\\widetilde X_t := S_{\\tau(t)}^{(0)}$ can be represented as\n",
    "\n",
    "$$\\widetilde X_t = s_0 + \\int_{0}^{t} \\sigma (S^{(0)}_{\\tau(u)})^{\\beta}dW_{\\tau(u)}.$$\n",
    "\n",
    "\n",
    "Then show that $W_{\\tau(u)}$ can be represented as \n",
    "$$W_{\\tau(u)} = \\int_{0}^{u} \\sqrt{\\tau'(v)} d \\widetilde W_v,$$\n",
    "\n",
    "where $\\tilde W_v$ is some Brownian motion. "
   ]
  },
  {
   "cell_type": "markdown",
   "metadata": {},
   "source": [
    "YOUR ANSWER HERE"
   ]
  },
  {
   "cell_type": "markdown",
   "metadata": {},
   "source": [
    "**3**. 🧠 <span style=\"color:blue\">(10 points)</span>  Show that $\\widetilde X_t$ satisfies the SDE \n",
    "\n",
    "$$d \\widetilde X_t = \\sigma e^{r (\\beta - 1) t } \\widetilde X_t^{\\beta} d \\widetilde W_t.$$"
   ]
  },
  {
   "cell_type": "markdown",
   "metadata": {},
   "source": [
    "YOUR ANSWER HERE"
   ]
  },
  {
   "cell_type": "markdown",
   "metadata": {},
   "source": [
    "**4**. 🧠 <span style=\"color:blue\">(10 points)</span>  Conclude that \n",
    "\n",
    "$$X_t \\stackrel{d}{=} \\widetilde X_t.$$"
   ]
  },
  {
   "cell_type": "markdown",
   "metadata": {},
   "source": [
    "YOUR ANSWER HERE"
   ]
  },
  {
   "cell_type": "markdown",
   "metadata": {},
   "source": [
    "---"
   ]
  },
  {
   "cell_type": "markdown",
   "metadata": {},
   "source": [
    "### Problem 2 (20 points)"
   ]
  },
  {
   "cell_type": "markdown",
   "metadata": {},
   "source": [
    "Let $S$ be the underlying process from the CEV model with zero interest rate, that is satisfying the SDE\n",
    "\n",
    "$$dS_t = \\sigma (S_t)^{\\beta} dW_t, \\quad S_0 = s > 0.$$\n",
    "\n",
    "Show that the process $$X_t := \\frac{S^{2(1 - \\beta)}_t}{\\sigma^2 (1 - \\beta)^2}$$\n",
    "\n",
    "is a square of the Bessel proceess of dimension $\\delta = (1 - 2 \\beta) / (1 - \\beta)$, i.e. satisfies the SDE \n",
    "\n",
    "$$dX_t = \\delta dt + 2 \\sqrt{|X_t|} dW_t.$$"
   ]
  },
  {
   "cell_type": "markdown",
   "metadata": {},
   "source": [
    "YOUR ANSWER HERE"
   ]
  },
  {
   "cell_type": "markdown",
   "metadata": {},
   "source": [
    "---"
   ]
  },
  {
   "cell_type": "markdown",
   "metadata": {},
   "source": [
    "### Problem 3 (40 points)"
   ]
  },
  {
   "cell_type": "markdown",
   "metadata": {},
   "source": [
    "In Heston model under the martingale measure (the measure under which all underlying assets are martinagales w.r.t the money-market account $dB_t = B_t r dt$, $B_0 = 1$) the price process is given by a system of SDE \n",
    "\n",
    "$$dS_t = S_t (r dt + \\sqrt{V_t} d W^{S}_t), \\quad S_0 = s > 0,$$\n",
    "$$d V_t = \\kappa (\\bar V - V_t) dt + \\gamma \\sqrt{V_t} \\left[ \\rho d W^{S}_t + \\sqrt{1 - \\rho^2} d W^{V}_t \\right], \\quad V_0 = v > 0.$$\n",
    "\n",
    "Derive the model dynamics under the the stock-measure $\\mathbb{Q}^{S}$, under which all assets are martingales w.r.t. the stock price $S_t$. "
   ]
  },
  {
   "cell_type": "markdown",
   "metadata": {},
   "source": [
    "*Instructions:*"
   ]
  },
  {
   "cell_type": "markdown",
   "metadata": {},
   "source": [
    "**1**. 🧠 <span style=\"color:blue\">(10 points)</span> Define a process $Y_t := B_t/S_t$ and show that its dynamics are given by\n",
    "\n",
    "$$dY_t = Y_t (V_t dt - \\sqrt{V_t} dW^{S}_t), \\quad Y_0 = 1/S_0.$$"
   ]
  },
  {
   "cell_type": "markdown",
   "metadata": {},
   "source": [
    "YOUR ANSWER HERE"
   ]
  },
  {
   "cell_type": "markdown",
   "metadata": {},
   "source": [
    "**2**. 🧠 <span style=\"color:blue\">(10 points)</span> Define another Brownian motion, $\\tilde W^{S}_t$, for which process $Y_t$ becomes a martingale. "
   ]
  },
  {
   "cell_type": "markdown",
   "metadata": {},
   "source": [
    "YOUR ANSWER HERE"
   ]
  },
  {
   "cell_type": "markdown",
   "metadata": {},
   "source": [
    "**3**. 🧠 <span style=\"color:blue\">(10 points)</span> Use the derived measure transformation to show that the Heston model under the $\\mathbb{Q}^S$ measure reads\n",
    "\n",
    "$$dS_t = S_t ((r + V_t)dt - \\sqrt{V_t} d \\widetilde W^{S}_t), \\quad S_0 = s > 0,$$\n",
    "$$d V_t = \\kappa^{*} (\\bar V^{*} - V_t) dt + \\gamma \\sqrt{V_t} \\left[ - \\rho d \\widetilde W^{S}_t + \\sqrt{1 - \\rho^2} d W^{V}_t \\right], \\quad V_0 = v > 0,$$\n",
    "\n",
    "where $\\kappa^{*} = \\kappa - \\rho \\gamma$, $\\bar V^{*} = \\kappa \\bar V / (\\kappa - \\rho \\gamma)$. "
   ]
  },
  {
   "cell_type": "markdown",
   "metadata": {},
   "source": [
    "YOUR ANSWER HERE"
   ]
  },
  {
   "cell_type": "markdown",
   "metadata": {},
   "source": [
    "**4**. 🧠 <span style=\"color:blue\">(10 points)</span> Use the transform $d \\widehat  W^{S}_t = - d \\widetilde W^{S}_t$ to obtain the final equations. "
   ]
  },
  {
   "cell_type": "markdown",
   "metadata": {},
   "source": [
    "YOUR ANSWER HERE"
   ]
  }
 ],
 "metadata": {
  "kernelspec": {
   "display_name": "Python 3",
   "language": "python",
   "name": "python3"
  },
  "language_info": {
   "codemirror_mode": {
    "name": "ipython",
    "version": 3
   },
   "file_extension": ".py",
   "mimetype": "text/x-python",
   "name": "python",
   "nbconvert_exporter": "python",
   "pygments_lexer": "ipython3",
   "version": "3.8.5"
  },
  "orig_nbformat": 4
 },
 "nbformat": 4,
 "nbformat_minor": 2
}
