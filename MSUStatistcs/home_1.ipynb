{
 "cells": [
  {
   "cell_type": "markdown",
   "metadata": {},
   "source": [
    "Student: Cherepakhin Ivan(309)"
   ]
  },
  {
   "cell_type": "code",
   "execution_count": 1,
   "metadata": {},
   "outputs": [],
   "source": [
    "# doc: class of test\n",
    "class Test:\n",
    "    @staticmethod\n",
    "    def assert_equals(a, b, *args, **kwargs):\n",
    "        assert a == b\n",
    "        print('Passed')"
   ]
  },
  {
   "cell_type": "markdown",
   "metadata": {},
   "source": [
    "\n",
    "№1 (https://edabit.com/challenge/bYDPYX9ajWC6PNGCp) Level - very hard"
   ]
  },
  {
   "cell_type": "code",
   "execution_count": 2,
   "metadata": {},
   "outputs": [
    {
     "name": "stdout",
     "output_type": "stream",
     "text": [
      "Passed\n",
      "Passed\n",
      "Passed\n",
      "Passed\n",
      "Passed\n",
      "Passed\n"
     ]
    }
   ],
   "source": [
    "def track_robot(*args):\n",
    "    resultVector = [0,0]\n",
    "    flagX = 1\n",
    "    flagY = 1 # variable is flag for loop, ON - is even\n",
    "    for i in range(0, len(args)):\n",
    "        if i % 2 == 0:\n",
    "            resultVector[1] += flagX*args[i]\n",
    "            flagX *= (-1)\n",
    "        else:\n",
    "            resultVector[0] += flagY*args[i]\n",
    "            flagY *= (-1)\n",
    "    return resultVector\n",
    "\n",
    "\n",
    "Test.assert_equals(track_robot(20, 30, 10, 40), [-10, 10])\n",
    "Test.assert_equals(track_robot(10, -10, -10, 10), [-20, 20])\n",
    "Test.assert_equals(track_robot(),[0, 0])\n",
    "Test.assert_equals(track_robot(1, 2, 3, 4, 5, 6, 7, 8, 9, 10), [6, 5])\n",
    "Test.assert_equals(track_robot(1, 0, 2, 0, 3, 0, 4, 0, 5, 0), [0, 3])\n",
    "Test.assert_equals(track_robot(0, 1, 0, 2, 0, 3, 0, 4, 0, 5), [3, 0])"
   ]
  },
  {
   "cell_type": "markdown",
   "metadata": {},
   "source": [
    "№2(https://edabit.com/challenge/fEwyy78jfqSfj5c2k) Level - very hard"
   ]
  },
  {
   "cell_type": "code",
   "execution_count": 3,
   "metadata": {},
   "outputs": [
    {
     "name": "stdout",
     "output_type": "stream",
     "text": [
      "Passed\n",
      "Passed\n",
      "Passed\n",
      "Passed\n",
      "Passed\n",
      "Passed\n",
      "Passed\n",
      "Passed\n"
     ]
    }
   ],
   "source": [
    "def admirable(n):\n",
    "    divisorList = list()\n",
    "    for i in range(1,n):\n",
    "        if n % i == 0:\n",
    "            divisorList.append(i)\n",
    "\n",
    "    if n == sum(divisorList):\n",
    "        return 'Perfect'\n",
    "\n",
    "    for i in range(0, len(divisorList)):\n",
    "        divisorList[i] *= -1\n",
    "        if n == sum(divisorList):\n",
    "            return (-1)*divisorList[i]\n",
    "        else:\n",
    "            divisorList[i] *= -1\n",
    "            \n",
    "    return 'Neither'\n",
    "\n",
    "\n",
    "\n",
    "Test.assert_equals(admirable(6), 'Perfect')\n",
    "Test.assert_equals(admirable(12), 2)\n",
    "Test.assert_equals(admirable(18), 'Neither')\n",
    "Test.assert_equals(admirable(496), 'Perfect')\n",
    "Test.assert_equals(admirable(138), 6)\n",
    "Test.assert_equals(admirable(612), 'Neither')\n",
    "Test.assert_equals(admirable(1876), 28)\n",
    "Test.assert_equals(admirable(5456), 496)"
   ]
  },
  {
   "cell_type": "markdown",
   "metadata": {},
   "source": [
    "№3 (https://edabit.com/challenge/HoFKikySJb4MebyYd) Level - expert"
   ]
  },
  {
   "cell_type": "code",
   "execution_count": 4,
   "metadata": {},
   "outputs": [
    {
     "name": "stdout",
     "output_type": "stream",
     "text": [
      "Passed\n",
      "Passed\n",
      "Passed\n",
      "Passed\n",
      "Passed\n",
      "Passed\n"
     ]
    }
   ],
   "source": [
    "def transform_matrix(lst):\n",
    "    amountColumns = len(lst[0]) \n",
    "    amountRows = len(lst)\n",
    "\n",
    "    matrixNew = [[0] * amountColumns for i in range(amountRows)]\n",
    "\n",
    "    rowSum = [0 for i in range(amountColumns)]\n",
    "    columnSum = [sum(lst[i]) for i in range(0, amountRows)]\n",
    "\n",
    "    # count sum of columns\n",
    "    for i in range(0, amountColumns):\n",
    "        for j in range(0, amountRows):\n",
    "            rowSum[i] += lst[j][i]\n",
    "\n",
    "    for i in range(0, amountColumns):\n",
    "        for j in range(0, amountRows):\n",
    "            matrixNew[j][i] = rowSum[i] + columnSum[j] - 2*lst[j][i]\n",
    "    \n",
    "    return matrixNew\n",
    "\n",
    "Test.assert_equals(transform_matrix(\n",
    "[\n",
    "[1, 0, 0, 0, 1], \n",
    "[0, 1, 0, 0, 0], \n",
    "[0, 0, 0, 1, 0], \n",
    "[0, 1, 0, 1, 0], \n",
    "[0, 1, 0, 0, 0]])\n",
    ",[\n",
    "[1, 5, 2, 4, 1], \n",
    "[2, 2, 1, 3, 2], \n",
    "[2, 4, 1, 1, 2], \n",
    "[3, 3, 2, 2, 3], \n",
    "[2, 2, 1, 3, 2]\n",
    "])\n",
    "\n",
    "Test.assert_equals(transform_matrix([\n",
    "[1, 0, 0, 0], \n",
    "[0, 1, 0, 0], \n",
    "[0, 0, 1, 0]\n",
    "]), [\n",
    "[0, 2, 2, 1], \n",
    "[2, 0, 2, 1], \n",
    "[2, 2, 0, 1]\n",
    "])\n",
    "\n",
    "Test.assert_equals(transform_matrix([\n",
    "[1, 1], \n",
    "[1, 1], \n",
    "[1, 1]\n",
    "]), [\n",
    "[3, 3], \n",
    "[3, 3], \n",
    "[3, 3]\n",
    "])\n",
    "\n",
    "Test.assert_equals(transform_matrix([\n",
    "[1, 0, 0], \n",
    "[0, 1, 0], \n",
    "[0, 0, 1]\n",
    "]), [\n",
    "[0, 2, 2], \n",
    "[2, 0, 2], \n",
    "[2, 2, 0]\n",
    "])\n",
    "\n",
    "Test.assert_equals(transform_matrix([\n",
    "[1, 1, 1], \n",
    "[0, 0, 1], \n",
    "[0, 0, 1]\n",
    "]), [\n",
    "[2, 2, 4], \n",
    "[2, 2, 2], \n",
    "[2, 2, 2]\n",
    "])\n",
    "\n",
    "Test.assert_equals(transform_matrix([\n",
    "[1, 1, 1], \n",
    "[0, 1, 1], \n",
    "[0, 0, 1]\n",
    "]), [\n",
    "[2, 3, 4], \n",
    "[3, 2, 3], \n",
    "[2, 3, 2]\n",
    "])"
   ]
  },
  {
   "cell_type": "code",
   "execution_count": null,
   "metadata": {},
   "outputs": [],
   "source": []
  }
 ],
 "metadata": {
  "kernelspec": {
   "display_name": "Python 3.10.7 64-bit",
   "language": "python",
   "name": "python3"
  },
  "language_info": {
   "codemirror_mode": {
    "name": "ipython",
    "version": 3
   },
   "file_extension": ".py",
   "mimetype": "text/x-python",
   "name": "python",
   "nbconvert_exporter": "python",
   "pygments_lexer": "ipython3",
   "version": "3.10.7"
  },
  "orig_nbformat": 4,
  "vscode": {
   "interpreter": {
    "hash": "aee8b7b246df8f9039afb4144a1f6fd8d2ca17a180786b69acc140d282b71a49"
   }
  }
 },
 "nbformat": 4,
 "nbformat_minor": 2
}
